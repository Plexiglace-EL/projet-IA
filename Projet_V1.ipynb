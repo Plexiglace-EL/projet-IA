{
 "cells": [
  {
   "cell_type": "code",
   "execution_count": 1,
   "id": "6c28547f",
   "metadata": {
    "scrolled": false
   },
   "outputs": [],
   "source": [
    "# IMPORTS FOR ALL THE PROJECT\n",
    "import numpy as np\n",
    "import os\n",
    "import requests\n",
    "from numpy.random import default_rng\n",
    "import matplotlib\n",
    "import matplotlib.pyplot as plt\n",
    "import tarfile\n",
    "from six.moves import urllib\n",
    "import pandas as pd\n",
    "\n"
   ]
  },
  {
   "cell_type": "code",
   "execution_count": 2,
   "id": "9cfe3d1d",
   "metadata": {},
   "outputs": [],
   "source": [
    "# PATH TO THE FILES\n",
    "\n",
    "urls= ['https://github.com/Plexiglace-EL/projet-IA/blob/main/general_data.csv', 'https://github.com/Plexiglace-EL/projet-IA/blob/main/manager_survey_data.csv', 'https://github.com/Plexiglace-EL/projet-IA/blob/main/employee_survey_data.csv', 'https://github.com/Plexiglace-EL/projet-IA/blob/main/in_time.csv', 'https://github.com/Plexiglace-EL/projet-IA/blob/main/out_time.csv']\n",
    "\n",
    "paths = ['./datasets/general_data.csv', './datasets/manager_survey_data.csv', './datasets/employee_survey_data.csv', './datasets/in_time.csv', './datasets/out_time.csv']"
   ]
  },
  {
   "cell_type": "code",
   "execution_count": 3,
   "id": "0053c2df",
   "metadata": {},
   "outputs": [],
   "source": [
    "# FUNCTION TO DOWNLOAD THE FILES FROM ONLINE REPO TO LOCAL FOLDER\n",
    "\n",
    "def fetch_datas(url, path):\n",
    "    localfile, header = urllib.request.urlretrieve(url, path)\n",
    "    print(localfile)\n",
    "    return localfile\n",
    "\n",
    "def extractZip(path):\n",
    "    with tarfile.open(path) as tf:\n",
    "        tf.extractall('./datasets')\n"
   ]
  },
  {
   "cell_type": "code",
   "execution_count": 8,
   "id": "2f29426e",
   "metadata": {
    "scrolled": false
   },
   "outputs": [
    {
     "name": "stdout",
     "output_type": "stream",
     "text": [
      "=============== BEGIN ===============\n",
      "./datasets/general_data.csv\n",
      "./datasets/manager_survey_data.csv\n",
      "./datasets/employee_survey_data.csv\n",
      "./datasets/in_time.csv\n",
      "./datasets/out_time.csv\n",
      "============ FINISHED ============\n"
     ]
    }
   ],
   "source": [
    "print('==='*4, \"BEGIN\", '==='*4)\n",
    "\n",
    "\n",
    "if not os.path.exists('./datasets/'):\n",
    "    print('==='*4, \"CREATING \\\"./datasets/\\\" DIRECTORY\", '==='*4)\n",
    "    os.mkdir('./datasets')\n",
    "\n",
    "for i, url in enumerate(urls):\n",
    "    file = fetch_datas(urls[i], paths[i])\n",
    "    \n",
    "    if(\".zip\" in file):\n",
    "        extractZip(file)\n",
    "        \n",
    "print('==='*4, \"FINISHED\", '==='*4)"
   ]
  },
  {
   "cell_type": "code",
   "execution_count": null,
   "id": "cb9db940",
   "metadata": {},
   "outputs": [],
   "source": []
  }
 ],
 "metadata": {
  "kernelspec": {
   "display_name": "Python 3 (ipykernel)",
   "language": "python",
   "name": "python3"
  },
  "language_info": {
   "codemirror_mode": {
    "name": "ipython",
    "version": 3
   },
   "file_extension": ".py",
   "mimetype": "text/x-python",
   "name": "python",
   "nbconvert_exporter": "python",
   "pygments_lexer": "ipython3",
   "version": "3.9.7"
  }
 },
 "nbformat": 4,
 "nbformat_minor": 5
}
