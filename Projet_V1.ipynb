{
 "cells": [
  {
   "cell_type": "code",
   "execution_count": 40,
   "id": "6c28547f",
   "metadata": {
    "scrolled": false
   },
   "outputs": [],
   "source": [
    "# IMPORTS FOR ALL THE PROJECT\n",
    "import numpy as np\n",
    "import os\n",
    "import requests\n",
    "from numpy.random import default_rng\n",
    "import matplotlib\n",
    "import matplotlib.pyplot as plt\n",
    "import tarfile\n",
    "from six.moves import urllib\n",
    "import pandas as pd\n",
    "\n"
   ]
  },
  {
   "cell_type": "code",
   "execution_count": 41,
   "id": "9cfe3d1d",
   "metadata": {},
   "outputs": [],
   "source": [
    "# PATH TO THE FILES\n",
    "\n",
    "urls= ['https://raw.githubusercontent.com/Plexiglace-EL/projet-IA/main/general_data.csv',\n",
    "       'https://raw.githubusercontent.com/Plexiglace-EL/projet-IA/main/manager_survey_data.csv',\n",
    "       'https://raw.githubusercontent.com/Plexiglace-EL/projet-IA/main/employee_survey_data.csv',\n",
    "       'https://raw.githubusercontent.com/Plexiglace-EL/projet-IA/main/in_time.csv',\n",
    "       'https://raw.githubusercontent.com/Plexiglace-EL/projet-IA/main/out_time.csv']\n",
    "\n",
    "paths = ['./datasets/general_data.csv',\n",
    "         './datasets/manager_survey_data.csv',\n",
    "         './datasets/employee_survey_data.csv',\n",
    "         './datasets/in_time.csv',\n",
    "         './datasets/out_time.csv']"
   ]
  },
  {
   "cell_type": "code",
   "execution_count": 42,
   "id": "0053c2df",
   "metadata": {},
   "outputs": [],
   "source": [
    "\n",
    "def fetch_datas(url, path):\n",
    "    localfile, header = urllib.request.urlretrieve(url, path)\n",
    "    print(localfile)\n",
    "    return localfile\n",
    "\n",
    "def extractZip(path):\n",
    "    with tarfile.open(path) as tf:\n",
    "        tf.extractall('./datasets')\n"
   ]
  },
  {
   "cell_type": "code",
   "execution_count": 43,
   "id": "2f29426e",
   "metadata": {
    "scrolled": false
   },
   "outputs": [],
   "source": [
    "def import_all_files():\n",
    "    print('==='*4, \"BEGIN\", '==='*4)\n",
    "\n",
    "\n",
    "    if not os.path.exists('./datasets/'):\n",
    "        print('==='*4, \"CREATING \\\"./datasets/\\\" DIRECTORY\", '==='*4)\n",
    "        os.mkdir('./datasets')\n",
    "\n",
    "    for i, url in enumerate(urls):\n",
    "        fetch_datas(urls[i], paths[i])\n",
    "\n",
    "    print('==='*4, \"FINISHED\", '==='*4)"
   ]
  },
  {
   "cell_type": "code",
   "execution_count": 44,
   "id": "cb9db940",
   "metadata": {},
   "outputs": [],
   "source": [
    "def load_datas(path):\n",
    "    datas = pd.read_csv(path)\n",
    "    return datas"
   ]
  },
  {
   "cell_type": "code",
   "execution_count": 6,
   "id": "df902c95",
   "metadata": {
    "scrolled": true
   },
   "outputs": [
    {
     "name": "stdout",
     "output_type": "stream",
     "text": [
      "============ BEGIN ============\n",
      "./datasets/general_data.csv\n",
      "./datasets/manager_survey_data.csv\n",
      "./datasets/employee_survey_data.csv\n",
      "./datasets/in_time.csv\n",
      "./datasets/out_time.csv\n",
      "============ FINISHED ============\n"
     ]
    }
   ],
   "source": [
    "# FUNCTION TO DOWNLOAD THE FILES FROM ONLINE REPO TO LOCAL FOLDER\n",
    "\n",
    "import_all_files()"
   ]
  },
  {
   "cell_type": "code",
   "execution_count": 45,
   "id": "38bcd0eb",
   "metadata": {
    "scrolled": true
   },
   "outputs": [],
   "source": [
    "# IMPORTING DATA IN DATAFRAME VARIABLES\n",
    "\n",
    "general = load_datas(paths[0])\n",
    "manager_survey = load_datas(paths[1])\n",
    "employee_survey = load_datas(paths[2])\n",
    "in_time = load_datas(paths[3])\n",
    "out_time = load_datas(paths[4])"
   ]
  },
  {
   "cell_type": "code",
   "execution_count": 46,
   "id": "877c1bb3",
   "metadata": {},
   "outputs": [],
   "source": [
    "def converting_string_to_dates(in_time, out_time):\n",
    "    # RENAMING THE UNNAMED COLUMN (ID_EMPLOYEE) FOR IT TO BE USEABLE MORE EASILY IN THE FUTURE\n",
    "\n",
    "    in_time = in_time.rename(columns={'Unnamed: 0': 'id_employee'})\n",
    "    out_time = out_time.rename(columns={'Unnamed: 0': 'id_employee'})\n",
    "\n",
    "\n",
    "    # WE CAN USE THE COLUMNS OF ONLY ONE FILE BECAUSE THEY ARE BOTH THE SAME AND CONTAINS THE SAME HEADERS NAME\n",
    "    # IT HAS BEEN VERIFIED USING LIST COMPARISON AND UNIQUE() CONDITION TO FILTER AND WE END WITH A TOTAL OF 262 COLUMNS\n",
    "    cols = in_time.columns\n",
    "\n",
    "\n",
    "    # CONVERTING THE DATES TO REAL PANDAS DATES OBJECT\n",
    "    for i in cols:\n",
    "        if i != 'id_employee':\n",
    "            in_time[i] = pd.to_datetime(in_time[i])\n",
    "            out_time[i] = pd.to_datetime(out_time[i])\n",
    "\n",
    "    return in_time, out_time"
   ]
  },
  {
   "cell_type": "code",
   "execution_count": 47,
   "id": "96d39c35",
   "metadata": {},
   "outputs": [],
   "source": [
    "#converting in and out time dataframes into pandas date obj\n",
    "in_time, out_time = converting_string_to_dates(in_time, out_time)"
   ]
  },
  {
   "cell_type": "code",
   "execution_count": 48,
   "id": "866cf136",
   "metadata": {},
   "outputs": [],
   "source": [
    "# using the converted dates to calculate the working time of each employee\n",
    "def calculate_working_time():\n",
    "\n",
    "    working_time = in_time.copy()\n",
    "    for i in working_time:\n",
    "        if i != 'id_employee':\n",
    "            working_time[i] = out_time[i] - working_time[i]\n",
    "            \n",
    "    return working_time"
   ]
  },
  {
   "cell_type": "code",
   "execution_count": 49,
   "id": "19bd9cf9",
   "metadata": {},
   "outputs": [],
   "source": [
    "working_time = calculate_working_time()\n"
   ]
  },
  {
   "cell_type": "code",
   "execution_count": 50,
   "id": "10ac41be",
   "metadata": {},
   "outputs": [],
   "source": [
    "# Encoder to convert the text data to actual values, it returns a corresponding matrix and the converted column\n",
    "\n",
    "from sklearn.preprocessing import LabelEncoder\n",
    "label_enc = LabelEncoder()\n",
    "\n",
    "def personnal_encoder(df, col):\n",
    "    df[col] = label_enc.fit_transform(df[col])\n",
    "    labels = label_enc.classes_.copy()\n",
    "    for index, l in enumerate(labels):\n",
    "        labels[index] = [index, l]\n",
    "\n",
    "    return labels, df\n",
    "\n"
   ]
  },
  {
   "cell_type": "code",
   "execution_count": 51,
   "id": "4ada4ece",
   "metadata": {},
   "outputs": [],
   "source": [
    "businesstravel_labels, general = personnal_encoder(general, 'BusinessTravel')\n",
    "attrition_labels, general = personnal_encoder(general, 'Attrition')\n",
    "education_labels, general = personnal_encoder(general, 'EducationField')\n",
    "department_labels, general = personnal_encoder(general, 'Department')\n",
    "gender_labels, general = personnal_encoder(general, 'Gender')\n",
    "ovr18_labels, general = personnal_encoder(general, 'Over18')\n",
    "jobrole_labels, general = personnal_encoder(general, 'JobRole')\n",
    "marital_labels, general = personnal_encoder(general, 'MaritalStatus')\n",
    "\n"
   ]
  },
  {
   "cell_type": "code",
   "execution_count": 52,
   "id": "ef626f78",
   "metadata": {},
   "outputs": [
    {
     "data": {
      "text/html": [
       "<div>\n",
       "<style scoped>\n",
       "    .dataframe tbody tr th:only-of-type {\n",
       "        vertical-align: middle;\n",
       "    }\n",
       "\n",
       "    .dataframe tbody tr th {\n",
       "        vertical-align: top;\n",
       "    }\n",
       "\n",
       "    .dataframe thead th {\n",
       "        text-align: right;\n",
       "    }\n",
       "</style>\n",
       "<table border=\"1\" class=\"dataframe\">\n",
       "  <thead>\n",
       "    <tr style=\"text-align: right;\">\n",
       "      <th></th>\n",
       "      <th>Age</th>\n",
       "      <th>Attrition</th>\n",
       "      <th>BusinessTravel</th>\n",
       "      <th>Department</th>\n",
       "      <th>DistanceFromHome</th>\n",
       "      <th>Education</th>\n",
       "      <th>EducationField</th>\n",
       "      <th>EmployeeCount</th>\n",
       "      <th>EmployeeID</th>\n",
       "      <th>Gender</th>\n",
       "      <th>...</th>\n",
       "      <th>NumCompaniesWorked</th>\n",
       "      <th>Over18</th>\n",
       "      <th>PercentSalaryHike</th>\n",
       "      <th>StandardHours</th>\n",
       "      <th>StockOptionLevel</th>\n",
       "      <th>TotalWorkingYears</th>\n",
       "      <th>TrainingTimesLastYear</th>\n",
       "      <th>YearsAtCompany</th>\n",
       "      <th>YearsSinceLastPromotion</th>\n",
       "      <th>YearsWithCurrManager</th>\n",
       "    </tr>\n",
       "  </thead>\n",
       "  <tbody>\n",
       "    <tr>\n",
       "      <th>count</th>\n",
       "      <td>4410.000000</td>\n",
       "      <td>4410.000000</td>\n",
       "      <td>4410.000000</td>\n",
       "      <td>4410.000000</td>\n",
       "      <td>4410.000000</td>\n",
       "      <td>4410.000000</td>\n",
       "      <td>4410.000000</td>\n",
       "      <td>4410.0</td>\n",
       "      <td>4410.000000</td>\n",
       "      <td>4410.000000</td>\n",
       "      <td>...</td>\n",
       "      <td>4391.000000</td>\n",
       "      <td>4410.0</td>\n",
       "      <td>4410.000000</td>\n",
       "      <td>4410.0</td>\n",
       "      <td>4410.000000</td>\n",
       "      <td>4401.000000</td>\n",
       "      <td>4410.000000</td>\n",
       "      <td>4410.000000</td>\n",
       "      <td>4410.000000</td>\n",
       "      <td>4410.000000</td>\n",
       "    </tr>\n",
       "    <tr>\n",
       "      <th>mean</th>\n",
       "      <td>36.923810</td>\n",
       "      <td>0.161224</td>\n",
       "      <td>1.607483</td>\n",
       "      <td>1.260544</td>\n",
       "      <td>9.192517</td>\n",
       "      <td>2.912925</td>\n",
       "      <td>2.247619</td>\n",
       "      <td>1.0</td>\n",
       "      <td>2205.500000</td>\n",
       "      <td>0.600000</td>\n",
       "      <td>...</td>\n",
       "      <td>2.694830</td>\n",
       "      <td>0.0</td>\n",
       "      <td>15.209524</td>\n",
       "      <td>8.0</td>\n",
       "      <td>0.793878</td>\n",
       "      <td>11.279936</td>\n",
       "      <td>2.799320</td>\n",
       "      <td>7.008163</td>\n",
       "      <td>2.187755</td>\n",
       "      <td>4.123129</td>\n",
       "    </tr>\n",
       "    <tr>\n",
       "      <th>std</th>\n",
       "      <td>9.133301</td>\n",
       "      <td>0.367780</td>\n",
       "      <td>0.665304</td>\n",
       "      <td>0.527673</td>\n",
       "      <td>8.105026</td>\n",
       "      <td>1.023933</td>\n",
       "      <td>1.331067</td>\n",
       "      <td>0.0</td>\n",
       "      <td>1273.201673</td>\n",
       "      <td>0.489954</td>\n",
       "      <td>...</td>\n",
       "      <td>2.498887</td>\n",
       "      <td>0.0</td>\n",
       "      <td>3.659108</td>\n",
       "      <td>0.0</td>\n",
       "      <td>0.851883</td>\n",
       "      <td>7.782222</td>\n",
       "      <td>1.288978</td>\n",
       "      <td>6.125135</td>\n",
       "      <td>3.221699</td>\n",
       "      <td>3.567327</td>\n",
       "    </tr>\n",
       "    <tr>\n",
       "      <th>min</th>\n",
       "      <td>18.000000</td>\n",
       "      <td>0.000000</td>\n",
       "      <td>0.000000</td>\n",
       "      <td>0.000000</td>\n",
       "      <td>1.000000</td>\n",
       "      <td>1.000000</td>\n",
       "      <td>0.000000</td>\n",
       "      <td>1.0</td>\n",
       "      <td>1.000000</td>\n",
       "      <td>0.000000</td>\n",
       "      <td>...</td>\n",
       "      <td>0.000000</td>\n",
       "      <td>0.0</td>\n",
       "      <td>11.000000</td>\n",
       "      <td>8.0</td>\n",
       "      <td>0.000000</td>\n",
       "      <td>0.000000</td>\n",
       "      <td>0.000000</td>\n",
       "      <td>0.000000</td>\n",
       "      <td>0.000000</td>\n",
       "      <td>0.000000</td>\n",
       "    </tr>\n",
       "    <tr>\n",
       "      <th>25%</th>\n",
       "      <td>30.000000</td>\n",
       "      <td>0.000000</td>\n",
       "      <td>1.000000</td>\n",
       "      <td>1.000000</td>\n",
       "      <td>2.000000</td>\n",
       "      <td>2.000000</td>\n",
       "      <td>1.000000</td>\n",
       "      <td>1.0</td>\n",
       "      <td>1103.250000</td>\n",
       "      <td>0.000000</td>\n",
       "      <td>...</td>\n",
       "      <td>1.000000</td>\n",
       "      <td>0.0</td>\n",
       "      <td>12.000000</td>\n",
       "      <td>8.0</td>\n",
       "      <td>0.000000</td>\n",
       "      <td>6.000000</td>\n",
       "      <td>2.000000</td>\n",
       "      <td>3.000000</td>\n",
       "      <td>0.000000</td>\n",
       "      <td>2.000000</td>\n",
       "    </tr>\n",
       "    <tr>\n",
       "      <th>50%</th>\n",
       "      <td>36.000000</td>\n",
       "      <td>0.000000</td>\n",
       "      <td>2.000000</td>\n",
       "      <td>1.000000</td>\n",
       "      <td>7.000000</td>\n",
       "      <td>3.000000</td>\n",
       "      <td>2.000000</td>\n",
       "      <td>1.0</td>\n",
       "      <td>2205.500000</td>\n",
       "      <td>1.000000</td>\n",
       "      <td>...</td>\n",
       "      <td>2.000000</td>\n",
       "      <td>0.0</td>\n",
       "      <td>14.000000</td>\n",
       "      <td>8.0</td>\n",
       "      <td>1.000000</td>\n",
       "      <td>10.000000</td>\n",
       "      <td>3.000000</td>\n",
       "      <td>5.000000</td>\n",
       "      <td>1.000000</td>\n",
       "      <td>3.000000</td>\n",
       "    </tr>\n",
       "    <tr>\n",
       "      <th>75%</th>\n",
       "      <td>43.000000</td>\n",
       "      <td>0.000000</td>\n",
       "      <td>2.000000</td>\n",
       "      <td>2.000000</td>\n",
       "      <td>14.000000</td>\n",
       "      <td>4.000000</td>\n",
       "      <td>3.000000</td>\n",
       "      <td>1.0</td>\n",
       "      <td>3307.750000</td>\n",
       "      <td>1.000000</td>\n",
       "      <td>...</td>\n",
       "      <td>4.000000</td>\n",
       "      <td>0.0</td>\n",
       "      <td>18.000000</td>\n",
       "      <td>8.0</td>\n",
       "      <td>1.000000</td>\n",
       "      <td>15.000000</td>\n",
       "      <td>3.000000</td>\n",
       "      <td>9.000000</td>\n",
       "      <td>3.000000</td>\n",
       "      <td>7.000000</td>\n",
       "    </tr>\n",
       "    <tr>\n",
       "      <th>max</th>\n",
       "      <td>60.000000</td>\n",
       "      <td>1.000000</td>\n",
       "      <td>2.000000</td>\n",
       "      <td>2.000000</td>\n",
       "      <td>29.000000</td>\n",
       "      <td>5.000000</td>\n",
       "      <td>5.000000</td>\n",
       "      <td>1.0</td>\n",
       "      <td>4410.000000</td>\n",
       "      <td>1.000000</td>\n",
       "      <td>...</td>\n",
       "      <td>9.000000</td>\n",
       "      <td>0.0</td>\n",
       "      <td>25.000000</td>\n",
       "      <td>8.0</td>\n",
       "      <td>3.000000</td>\n",
       "      <td>40.000000</td>\n",
       "      <td>6.000000</td>\n",
       "      <td>40.000000</td>\n",
       "      <td>15.000000</td>\n",
       "      <td>17.000000</td>\n",
       "    </tr>\n",
       "  </tbody>\n",
       "</table>\n",
       "<p>8 rows × 24 columns</p>\n",
       "</div>"
      ],
      "text/plain": [
       "               Age    Attrition  BusinessTravel   Department  \\\n",
       "count  4410.000000  4410.000000     4410.000000  4410.000000   \n",
       "mean     36.923810     0.161224        1.607483     1.260544   \n",
       "std       9.133301     0.367780        0.665304     0.527673   \n",
       "min      18.000000     0.000000        0.000000     0.000000   \n",
       "25%      30.000000     0.000000        1.000000     1.000000   \n",
       "50%      36.000000     0.000000        2.000000     1.000000   \n",
       "75%      43.000000     0.000000        2.000000     2.000000   \n",
       "max      60.000000     1.000000        2.000000     2.000000   \n",
       "\n",
       "       DistanceFromHome    Education  EducationField  EmployeeCount  \\\n",
       "count       4410.000000  4410.000000     4410.000000         4410.0   \n",
       "mean           9.192517     2.912925        2.247619            1.0   \n",
       "std            8.105026     1.023933        1.331067            0.0   \n",
       "min            1.000000     1.000000        0.000000            1.0   \n",
       "25%            2.000000     2.000000        1.000000            1.0   \n",
       "50%            7.000000     3.000000        2.000000            1.0   \n",
       "75%           14.000000     4.000000        3.000000            1.0   \n",
       "max           29.000000     5.000000        5.000000            1.0   \n",
       "\n",
       "        EmployeeID       Gender  ...  NumCompaniesWorked  Over18  \\\n",
       "count  4410.000000  4410.000000  ...         4391.000000  4410.0   \n",
       "mean   2205.500000     0.600000  ...            2.694830     0.0   \n",
       "std    1273.201673     0.489954  ...            2.498887     0.0   \n",
       "min       1.000000     0.000000  ...            0.000000     0.0   \n",
       "25%    1103.250000     0.000000  ...            1.000000     0.0   \n",
       "50%    2205.500000     1.000000  ...            2.000000     0.0   \n",
       "75%    3307.750000     1.000000  ...            4.000000     0.0   \n",
       "max    4410.000000     1.000000  ...            9.000000     0.0   \n",
       "\n",
       "       PercentSalaryHike  StandardHours  StockOptionLevel  TotalWorkingYears  \\\n",
       "count        4410.000000         4410.0       4410.000000        4401.000000   \n",
       "mean           15.209524            8.0          0.793878          11.279936   \n",
       "std             3.659108            0.0          0.851883           7.782222   \n",
       "min            11.000000            8.0          0.000000           0.000000   \n",
       "25%            12.000000            8.0          0.000000           6.000000   \n",
       "50%            14.000000            8.0          1.000000          10.000000   \n",
       "75%            18.000000            8.0          1.000000          15.000000   \n",
       "max            25.000000            8.0          3.000000          40.000000   \n",
       "\n",
       "       TrainingTimesLastYear  YearsAtCompany  YearsSinceLastPromotion  \\\n",
       "count            4410.000000     4410.000000              4410.000000   \n",
       "mean                2.799320        7.008163                 2.187755   \n",
       "std                 1.288978        6.125135                 3.221699   \n",
       "min                 0.000000        0.000000                 0.000000   \n",
       "25%                 2.000000        3.000000                 0.000000   \n",
       "50%                 3.000000        5.000000                 1.000000   \n",
       "75%                 3.000000        9.000000                 3.000000   \n",
       "max                 6.000000       40.000000                15.000000   \n",
       "\n",
       "       YearsWithCurrManager  \n",
       "count           4410.000000  \n",
       "mean               4.123129  \n",
       "std                3.567327  \n",
       "min                0.000000  \n",
       "25%                2.000000  \n",
       "50%                3.000000  \n",
       "75%                7.000000  \n",
       "max               17.000000  \n",
       "\n",
       "[8 rows x 24 columns]"
      ]
     },
     "execution_count": 52,
     "metadata": {},
     "output_type": "execute_result"
    }
   ],
   "source": [
    "general.describe()"
   ]
  },
  {
   "cell_type": "code",
   "execution_count": 53,
   "id": "164ced5a",
   "metadata": {},
   "outputs": [
    {
     "data": {
      "text/html": [
       "<div>\n",
       "<style scoped>\n",
       "    .dataframe tbody tr th:only-of-type {\n",
       "        vertical-align: middle;\n",
       "    }\n",
       "\n",
       "    .dataframe tbody tr th {\n",
       "        vertical-align: top;\n",
       "    }\n",
       "\n",
       "    .dataframe thead th {\n",
       "        text-align: right;\n",
       "    }\n",
       "</style>\n",
       "<table border=\"1\" class=\"dataframe\">\n",
       "  <thead>\n",
       "    <tr style=\"text-align: right;\">\n",
       "      <th></th>\n",
       "      <th>EmployeeID</th>\n",
       "      <th>Age</th>\n",
       "      <th>Attrition</th>\n",
       "      <th>BusinessTravel</th>\n",
       "      <th>Department</th>\n",
       "      <th>DistanceFromHome</th>\n",
       "      <th>Education</th>\n",
       "      <th>EducationField</th>\n",
       "      <th>EmployeeCount</th>\n",
       "      <th>Gender</th>\n",
       "      <th>...</th>\n",
       "      <th>TrainingTimesLastYear</th>\n",
       "      <th>YearsAtCompany</th>\n",
       "      <th>YearsSinceLastPromotion</th>\n",
       "      <th>YearsWithCurrManager</th>\n",
       "      <th>mean</th>\n",
       "      <th>EnvironmentSatisfaction</th>\n",
       "      <th>JobSatisfaction</th>\n",
       "      <th>WorkLifeBalance</th>\n",
       "      <th>JobInvolvement</th>\n",
       "      <th>PerformanceRating</th>\n",
       "    </tr>\n",
       "  </thead>\n",
       "  <tbody>\n",
       "    <tr>\n",
       "      <th>0</th>\n",
       "      <td>1</td>\n",
       "      <td>51</td>\n",
       "      <td>0</td>\n",
       "      <td>2</td>\n",
       "      <td>2</td>\n",
       "      <td>6</td>\n",
       "      <td>2</td>\n",
       "      <td>1</td>\n",
       "      <td>1</td>\n",
       "      <td>0</td>\n",
       "      <td>...</td>\n",
       "      <td>6</td>\n",
       "      <td>1</td>\n",
       "      <td>0</td>\n",
       "      <td>0</td>\n",
       "      <td>7.37</td>\n",
       "      <td>3.0</td>\n",
       "      <td>4.0</td>\n",
       "      <td>2.0</td>\n",
       "      <td>3</td>\n",
       "      <td>3</td>\n",
       "    </tr>\n",
       "    <tr>\n",
       "      <th>1</th>\n",
       "      <td>2</td>\n",
       "      <td>31</td>\n",
       "      <td>1</td>\n",
       "      <td>1</td>\n",
       "      <td>1</td>\n",
       "      <td>10</td>\n",
       "      <td>1</td>\n",
       "      <td>1</td>\n",
       "      <td>1</td>\n",
       "      <td>0</td>\n",
       "      <td>...</td>\n",
       "      <td>3</td>\n",
       "      <td>5</td>\n",
       "      <td>1</td>\n",
       "      <td>4</td>\n",
       "      <td>7.72</td>\n",
       "      <td>3.0</td>\n",
       "      <td>2.0</td>\n",
       "      <td>4.0</td>\n",
       "      <td>2</td>\n",
       "      <td>4</td>\n",
       "    </tr>\n",
       "    <tr>\n",
       "      <th>2</th>\n",
       "      <td>3</td>\n",
       "      <td>32</td>\n",
       "      <td>0</td>\n",
       "      <td>1</td>\n",
       "      <td>1</td>\n",
       "      <td>17</td>\n",
       "      <td>4</td>\n",
       "      <td>4</td>\n",
       "      <td>1</td>\n",
       "      <td>1</td>\n",
       "      <td>...</td>\n",
       "      <td>2</td>\n",
       "      <td>5</td>\n",
       "      <td>0</td>\n",
       "      <td>3</td>\n",
       "      <td>7.01</td>\n",
       "      <td>2.0</td>\n",
       "      <td>2.0</td>\n",
       "      <td>1.0</td>\n",
       "      <td>3</td>\n",
       "      <td>3</td>\n",
       "    </tr>\n",
       "    <tr>\n",
       "      <th>3</th>\n",
       "      <td>4</td>\n",
       "      <td>38</td>\n",
       "      <td>0</td>\n",
       "      <td>0</td>\n",
       "      <td>1</td>\n",
       "      <td>2</td>\n",
       "      <td>5</td>\n",
       "      <td>1</td>\n",
       "      <td>1</td>\n",
       "      <td>1</td>\n",
       "      <td>...</td>\n",
       "      <td>5</td>\n",
       "      <td>8</td>\n",
       "      <td>7</td>\n",
       "      <td>5</td>\n",
       "      <td>7.19</td>\n",
       "      <td>4.0</td>\n",
       "      <td>4.0</td>\n",
       "      <td>3.0</td>\n",
       "      <td>2</td>\n",
       "      <td>3</td>\n",
       "    </tr>\n",
       "    <tr>\n",
       "      <th>4</th>\n",
       "      <td>5</td>\n",
       "      <td>32</td>\n",
       "      <td>0</td>\n",
       "      <td>2</td>\n",
       "      <td>1</td>\n",
       "      <td>10</td>\n",
       "      <td>1</td>\n",
       "      <td>3</td>\n",
       "      <td>1</td>\n",
       "      <td>1</td>\n",
       "      <td>...</td>\n",
       "      <td>2</td>\n",
       "      <td>6</td>\n",
       "      <td>0</td>\n",
       "      <td>4</td>\n",
       "      <td>8.01</td>\n",
       "      <td>4.0</td>\n",
       "      <td>1.0</td>\n",
       "      <td>3.0</td>\n",
       "      <td>3</td>\n",
       "      <td>3</td>\n",
       "    </tr>\n",
       "    <tr>\n",
       "      <th>...</th>\n",
       "      <td>...</td>\n",
       "      <td>...</td>\n",
       "      <td>...</td>\n",
       "      <td>...</td>\n",
       "      <td>...</td>\n",
       "      <td>...</td>\n",
       "      <td>...</td>\n",
       "      <td>...</td>\n",
       "      <td>...</td>\n",
       "      <td>...</td>\n",
       "      <td>...</td>\n",
       "      <td>...</td>\n",
       "      <td>...</td>\n",
       "      <td>...</td>\n",
       "      <td>...</td>\n",
       "      <td>...</td>\n",
       "      <td>...</td>\n",
       "      <td>...</td>\n",
       "      <td>...</td>\n",
       "      <td>...</td>\n",
       "      <td>...</td>\n",
       "    </tr>\n",
       "    <tr>\n",
       "      <th>4405</th>\n",
       "      <td>4406</td>\n",
       "      <td>42</td>\n",
       "      <td>0</td>\n",
       "      <td>2</td>\n",
       "      <td>1</td>\n",
       "      <td>5</td>\n",
       "      <td>4</td>\n",
       "      <td>3</td>\n",
       "      <td>1</td>\n",
       "      <td>0</td>\n",
       "      <td>...</td>\n",
       "      <td>5</td>\n",
       "      <td>3</td>\n",
       "      <td>0</td>\n",
       "      <td>2</td>\n",
       "      <td>8.52</td>\n",
       "      <td>4.0</td>\n",
       "      <td>1.0</td>\n",
       "      <td>3.0</td>\n",
       "      <td>3</td>\n",
       "      <td>3</td>\n",
       "    </tr>\n",
       "    <tr>\n",
       "      <th>4406</th>\n",
       "      <td>4407</td>\n",
       "      <td>29</td>\n",
       "      <td>0</td>\n",
       "      <td>2</td>\n",
       "      <td>1</td>\n",
       "      <td>2</td>\n",
       "      <td>4</td>\n",
       "      <td>3</td>\n",
       "      <td>1</td>\n",
       "      <td>1</td>\n",
       "      <td>...</td>\n",
       "      <td>2</td>\n",
       "      <td>3</td>\n",
       "      <td>0</td>\n",
       "      <td>2</td>\n",
       "      <td>6.09</td>\n",
       "      <td>4.0</td>\n",
       "      <td>4.0</td>\n",
       "      <td>3.0</td>\n",
       "      <td>2</td>\n",
       "      <td>3</td>\n",
       "    </tr>\n",
       "    <tr>\n",
       "      <th>4407</th>\n",
       "      <td>4408</td>\n",
       "      <td>25</td>\n",
       "      <td>0</td>\n",
       "      <td>2</td>\n",
       "      <td>1</td>\n",
       "      <td>25</td>\n",
       "      <td>2</td>\n",
       "      <td>1</td>\n",
       "      <td>1</td>\n",
       "      <td>1</td>\n",
       "      <td>...</td>\n",
       "      <td>4</td>\n",
       "      <td>4</td>\n",
       "      <td>1</td>\n",
       "      <td>2</td>\n",
       "      <td>7.71</td>\n",
       "      <td>1.0</td>\n",
       "      <td>3.0</td>\n",
       "      <td>3.0</td>\n",
       "      <td>3</td>\n",
       "      <td>4</td>\n",
       "    </tr>\n",
       "    <tr>\n",
       "      <th>4408</th>\n",
       "      <td>4409</td>\n",
       "      <td>42</td>\n",
       "      <td>0</td>\n",
       "      <td>2</td>\n",
       "      <td>2</td>\n",
       "      <td>18</td>\n",
       "      <td>2</td>\n",
       "      <td>3</td>\n",
       "      <td>1</td>\n",
       "      <td>1</td>\n",
       "      <td>...</td>\n",
       "      <td>2</td>\n",
       "      <td>9</td>\n",
       "      <td>7</td>\n",
       "      <td>8</td>\n",
       "      <td>9.49</td>\n",
       "      <td>4.0</td>\n",
       "      <td>1.0</td>\n",
       "      <td>3.0</td>\n",
       "      <td>2</td>\n",
       "      <td>3</td>\n",
       "    </tr>\n",
       "    <tr>\n",
       "      <th>4409</th>\n",
       "      <td>4410</td>\n",
       "      <td>40</td>\n",
       "      <td>0</td>\n",
       "      <td>2</td>\n",
       "      <td>1</td>\n",
       "      <td>28</td>\n",
       "      <td>3</td>\n",
       "      <td>3</td>\n",
       "      <td>1</td>\n",
       "      <td>1</td>\n",
       "      <td>...</td>\n",
       "      <td>6</td>\n",
       "      <td>21</td>\n",
       "      <td>3</td>\n",
       "      <td>9</td>\n",
       "      <td>6.99</td>\n",
       "      <td>1.0</td>\n",
       "      <td>3.0</td>\n",
       "      <td>NaN</td>\n",
       "      <td>4</td>\n",
       "      <td>3</td>\n",
       "    </tr>\n",
       "  </tbody>\n",
       "</table>\n",
       "<p>4410 rows × 30 columns</p>\n",
       "</div>"
      ],
      "text/plain": [
       "      EmployeeID  Age  Attrition  BusinessTravel  Department  \\\n",
       "0              1   51          0               2           2   \n",
       "1              2   31          1               1           1   \n",
       "2              3   32          0               1           1   \n",
       "3              4   38          0               0           1   \n",
       "4              5   32          0               2           1   \n",
       "...          ...  ...        ...             ...         ...   \n",
       "4405        4406   42          0               2           1   \n",
       "4406        4407   29          0               2           1   \n",
       "4407        4408   25          0               2           1   \n",
       "4408        4409   42          0               2           2   \n",
       "4409        4410   40          0               2           1   \n",
       "\n",
       "      DistanceFromHome  Education  EducationField  EmployeeCount  Gender  ...  \\\n",
       "0                    6          2               1              1       0  ...   \n",
       "1                   10          1               1              1       0  ...   \n",
       "2                   17          4               4              1       1  ...   \n",
       "3                    2          5               1              1       1  ...   \n",
       "4                   10          1               3              1       1  ...   \n",
       "...                ...        ...             ...            ...     ...  ...   \n",
       "4405                 5          4               3              1       0  ...   \n",
       "4406                 2          4               3              1       1  ...   \n",
       "4407                25          2               1              1       1  ...   \n",
       "4408                18          2               3              1       1  ...   \n",
       "4409                28          3               3              1       1  ...   \n",
       "\n",
       "      TrainingTimesLastYear  YearsAtCompany  YearsSinceLastPromotion  \\\n",
       "0                         6               1                        0   \n",
       "1                         3               5                        1   \n",
       "2                         2               5                        0   \n",
       "3                         5               8                        7   \n",
       "4                         2               6                        0   \n",
       "...                     ...             ...                      ...   \n",
       "4405                      5               3                        0   \n",
       "4406                      2               3                        0   \n",
       "4407                      4               4                        1   \n",
       "4408                      2               9                        7   \n",
       "4409                      6              21                        3   \n",
       "\n",
       "      YearsWithCurrManager  mean  EnvironmentSatisfaction  JobSatisfaction  \\\n",
       "0                        0  7.37                      3.0              4.0   \n",
       "1                        4  7.72                      3.0              2.0   \n",
       "2                        3  7.01                      2.0              2.0   \n",
       "3                        5  7.19                      4.0              4.0   \n",
       "4                        4  8.01                      4.0              1.0   \n",
       "...                    ...   ...                      ...              ...   \n",
       "4405                     2  8.52                      4.0              1.0   \n",
       "4406                     2  6.09                      4.0              4.0   \n",
       "4407                     2  7.71                      1.0              3.0   \n",
       "4408                     8  9.49                      4.0              1.0   \n",
       "4409                     9  6.99                      1.0              3.0   \n",
       "\n",
       "      WorkLifeBalance  JobInvolvement  PerformanceRating  \n",
       "0                 2.0               3                  3  \n",
       "1                 4.0               2                  4  \n",
       "2                 1.0               3                  3  \n",
       "3                 3.0               2                  3  \n",
       "4                 3.0               3                  3  \n",
       "...               ...             ...                ...  \n",
       "4405              3.0               3                  3  \n",
       "4406              3.0               2                  3  \n",
       "4407              3.0               3                  4  \n",
       "4408              3.0               2                  3  \n",
       "4409              NaN               4                  3  \n",
       "\n",
       "[4410 rows x 30 columns]"
      ]
     },
     "execution_count": 53,
     "metadata": {},
     "output_type": "execute_result"
    }
   ],
   "source": [
    "# Adding the calculated mean value of the working time of each employee to the main dataframe\n",
    "mean_time = working_time.copy()\n",
    "mean_time = mean_time.drop('id_employee', axis=1)\n",
    "general['mean'] = mean_time.mean(axis = 1)\n",
    "general['mean'] = general['mean'].dt.total_seconds() / 3600\n",
    "general['mean'] = round(general['mean'], 2)\n",
    "# Adding the rest of the datas (from the survey)\n",
    "general['EnvironmentSatisfaction'] = employee_survey['EnvironmentSatisfaction']\n",
    "general['JobSatisfaction'] = employee_survey['JobSatisfaction']\n",
    "general['WorkLifeBalance'] = employee_survey['WorkLifeBalance']\n",
    "general['JobInvolvement'] = manager_survey['JobInvolvement']\n",
    "general['PerformanceRating'] = manager_survey['PerformanceRating']\n",
    "\n",
    "# Reformating the column of the existing general DF for comprehension\n",
    "general = general.reindex(columns=['EmployeeID','Age','Attrition','BusinessTravel','Department','DistanceFromHome','Education','EducationField','EmployeeCount','Gender','JobLevel','JobRole','MaritalStatus','MonthlyIncome','NumCompaniesWorked','Over18','PercentSalaryHike','StandardHours','StockOptionLevel','TotalWorkingYears','TrainingTimesLastYear','YearsAtCompany','YearsSinceLastPromotion','YearsWithCurrManager','mean','EnvironmentSatisfaction','JobSatisfaction','WorkLifeBalance','JobInvolvement','PerformanceRating'])\n",
    "general"
   ]
  },
  {
   "cell_type": "code",
   "execution_count": 61,
   "id": "7a2adc46",
   "metadata": {},
   "outputs": [
    {
     "data": {
      "text/plain": [
       "EmployeeID                  0\n",
       "Age                         0\n",
       "Attrition                   0\n",
       "BusinessTravel              0\n",
       "Department                  0\n",
       "DistanceFromHome            0\n",
       "Education                   0\n",
       "EducationField              0\n",
       "EmployeeCount               0\n",
       "Gender                      0\n",
       "JobLevel                    0\n",
       "JobRole                     0\n",
       "MaritalStatus               0\n",
       "MonthlyIncome               0\n",
       "NumCompaniesWorked         19\n",
       "Over18                      0\n",
       "PercentSalaryHike           0\n",
       "StandardHours               0\n",
       "StockOptionLevel            0\n",
       "TotalWorkingYears           9\n",
       "TrainingTimesLastYear       0\n",
       "YearsAtCompany              0\n",
       "YearsSinceLastPromotion     0\n",
       "YearsWithCurrManager        0\n",
       "mean                        0\n",
       "EnvironmentSatisfaction    25\n",
       "JobSatisfaction            20\n",
       "WorkLifeBalance            38\n",
       "JobInvolvement              0\n",
       "PerformanceRating           0\n",
       "dtype: int64"
      ]
     },
     "execution_count": 61,
     "metadata": {},
     "output_type": "execute_result"
    }
   ],
   "source": [
    "# Verifying the integrity of the datas (types and potential #NA)\n",
    "general.isna().sum()"
   ]
  },
  {
   "cell_type": "code",
   "execution_count": 64,
   "id": "64ab3fa2",
   "metadata": {},
   "outputs": [
    {
     "data": {
      "text/plain": [
       "EmployeeID                 0\n",
       "Age                        0\n",
       "Attrition                  0\n",
       "BusinessTravel             0\n",
       "Department                 0\n",
       "DistanceFromHome           0\n",
       "Education                  0\n",
       "EducationField             0\n",
       "EmployeeCount              0\n",
       "Gender                     0\n",
       "JobLevel                   0\n",
       "JobRole                    0\n",
       "MaritalStatus              0\n",
       "MonthlyIncome              0\n",
       "NumCompaniesWorked         0\n",
       "Over18                     0\n",
       "PercentSalaryHike          0\n",
       "StandardHours              0\n",
       "StockOptionLevel           0\n",
       "TotalWorkingYears          0\n",
       "TrainingTimesLastYear      0\n",
       "YearsAtCompany             0\n",
       "YearsSinceLastPromotion    0\n",
       "YearsWithCurrManager       0\n",
       "mean                       0\n",
       "EnvironmentSatisfaction    0\n",
       "JobSatisfaction            0\n",
       "WorkLifeBalance            0\n",
       "JobInvolvement             0\n",
       "PerformanceRating          0\n",
       "dtype: int64"
      ]
     },
     "execution_count": 64,
     "metadata": {},
     "output_type": "execute_result"
    }
   ],
   "source": [
    "#We fill the blanks with Median values of each columns\n",
    "general[\"NumCompaniesWorked\"] = general[\"NumCompaniesWorked\"].fillna(general[\"NumCompaniesWorked\"].median())\n",
    "general[\"TotalWorkingYears\"] = general[\"TotalWorkingYears\"].fillna(general[\"TotalWorkingYears\"].median())\n",
    "\n",
    "environmentSatisMean = general[\"EnvironmentSatisfaction\"].mean(axis = 0)\n",
    "jobSatisMean = general[\"JobSatisfaction\"].mean(axis=0)\n",
    "worklifemean = general[\"WorkLifeBalance\"].mean(axis=0)\n",
    "\n",
    "for a, value in general['EnvironmentSatisfaction'].isnull().iteritems():\n",
    "    if value:\n",
    "        general['EnvironmentSatisfaction'][a] = environmentSatisMean\n",
    "\n",
    "for a, value in general[\"JobSatisfaction\"].isnull().iteritems():\n",
    "    if value:\n",
    "        general['JobSatisfaction'][a] = jobSatisMean\n",
    "\n",
    "for a, value in general[\"WorkLifeBalance\"].isnull().iteritems():\n",
    "    if value:\n",
    "        general['WorkLifeBalance'][a] = worklifemean\n",
    "        \n",
    "general.isna().sum()"
   ]
  },
  {
   "cell_type": "code",
   "execution_count": 65,
   "id": "497ac8b1",
   "metadata": {
    "scrolled": false
   },
   "outputs": [
    {
     "data": {
      "image/png": "[encoded data removed]",
      "text/plain": [
       "<Figure size 432x288 with 1 Axes>"
      ]
     },
     "metadata": {
      "needs_background": "light"
     },
     "output_type": "display_data"
    },
    {
     "data": {
      "image/png": "[encoded data removed]",
      "text/plain": [
       "<Figure size 432x288 with 1 Axes>"
      ]
     },
     "metadata": {
      "needs_background": "light"
     },
     "output_type": "display_data"
    },
    {
     "data": {
      "image/png": "[encoded data removed]",
      "text/plain": [
       "<Figure size 432x288 with 1 Axes>"
      ]
     },
     "metadata": {
      "needs_background": "light"
     },
     "output_type": "display_data"
    },
    {
     "data": {
      "image/png": "[encoded data removed]",
      "text/plain": [
       "<Figure size 432x288 with 1 Axes>"
      ]
     },
     "metadata": {
      "needs_background": "light"
     },
     "output_type": "display_data"
    },
    {
     "data": {
      "image/png": "[encoded data removed]",
      "text/plain": [
       "<Figure size 432x288 with 1 Axes>"
      ]
     },
     "metadata": {
      "needs_background": "light"
     },
     "output_type": "display_data"
    },
    {
     "data": {
      "image/png": "[encoded data removed]",
      "text/plain": [
       "<Figure size 432x288 with 1 Axes>"
      ]
     },
     "metadata": {
      "needs_background": "light"
     },
     "output_type": "display_data"
    },
    {
     "data": {
      "image/png": "[encoded data removed]",
      "text/plain": [
       "<Figure size 432x288 with 1 Axes>"
      ]
     },
     "metadata": {
      "needs_background": "light"
     },
     "output_type": "display_data"
    },
    {
     "data": {
      "image/png": "[encoded data removed]",
      "text/plain": [
       "<Figure size 432x288 with 1 Axes>"
      ]
     },
     "metadata": {
      "needs_background": "light"
     },
     "output_type": "display_data"
    },
    {
     "data": {
      "image/png": "[encoded data removed]",
      "text/plain": [
       "<Figure size 432x288 with 1 Axes>"
      ]
     },
     "metadata": {
      "needs_background": "light"
     },
     "output_type": "display_data"
    },
    {
     "data": {
      "image/png": "[encoded data removed]",
      "text/plain": [
       "<Figure size 432x288 with 1 Axes>"
      ]
     },
     "metadata": {
      "needs_background": "light"
     },
     "output_type": "display_data"
    },
    {
     "data": {
      "image/png": "[encoded data removed]",
      "text/plain": [
       "<Figure size 432x288 with 1 Axes>"
      ]
     },
     "metadata": {
      "needs_background": "light"
     },
     "output_type": "display_data"
    },
    {
     "data": {
      "image/png": "[encoded data removed]",
      "text/plain": [
       "<Figure size 432x288 with 1 Axes>"
      ]
     },
     "metadata": {
      "needs_background": "light"
     },
     "output_type": "display_data"
    },
    {
     "data": {
      "image/png": "[encoded data removed]",
      "text/plain": [
       "<Figure size 432x288 with 1 Axes>"
      ]
     },
     "metadata": {
      "needs_background": "light"
     },
     "output_type": "display_data"
    },
    {
     "data": {
      "image/png": "[encoded data removed]",
      "text/plain": [
       "<Figure size 432x288 with 1 Axes>"
      ]
     },
     "metadata": {
      "needs_background": "light"
     },
     "output_type": "display_data"
    },
    {
     "data": {
      "image/png": "[encoded data removed]",
      "text/plain": [
       "<Figure size 432x288 with 1 Axes>"
      ]
     },
     "metadata": {
      "needs_background": "light"
     },
     "output_type": "display_data"
    },
    {
     "data": {
      "image/png": "[encoded data removed]",
      "text/plain": [
       "<Figure size 432x288 with 1 Axes>"
      ]
     },
     "metadata": {
      "needs_background": "light"
     },
     "output_type": "display_data"
    },
    {
     "data": {
      "image/png": "[encoded data removed]",
      "text/plain": [
       "<Figure size 432x288 with 1 Axes>"
      ]
     },
     "metadata": {
      "needs_background": "light"
     },
     "output_type": "display_data"
    },
    {
     "data": {
      "image/png": "[encoded data removed]",
      "text/plain": [
       "<Figure size 432x288 with 1 Axes>"
      ]
     },
     "metadata": {
      "needs_background": "light"
     },
     "output_type": "display_data"
    },
    {
     "data": {
      "image/png": "[encoded data removed]",
      "text/plain": [
       "<Figure size 432x288 with 1 Axes>"
      ]
     },
     "metadata": {
      "needs_background": "light"
     },
     "output_type": "display_data"
    },
    {
     "data": {
      "image/png": "[encoded data removed]",
      "text/plain": [
       "<Figure size 432x288 with 1 Axes>"
      ]
     },
     "metadata": {
      "needs_background": "light"
     },
     "output_type": "display_data"
    },
    {
     "data": {
      "image/png": "[encoded data removed]",
      "text/plain": [
       "<Figure size 432x288 with 1 Axes>"
      ]
     },
     "metadata": {
      "needs_background": "light"
     },
     "output_type": "display_data"
    },
    {
     "data": {
      "image/png": "[encoded data removed]",
      "text/plain": [
       "<Figure size 432x288 with 1 Axes>"
      ]
     },
     "metadata": {
      "needs_background": "light"
     },
     "output_type": "display_data"
    },
    {
     "data": {
      "image/png": "[encoded data removed]",
      "text/plain": [
       "<Figure size 432x288 with 1 Axes>"
      ]
     },
     "metadata": {
      "needs_background": "light"
     },
     "output_type": "display_data"
    },
    {
     "data": {
      "image/png": "[encoded data removed]",
      "text/plain": [
       "<Figure size 432x288 with 1 Axes>"
      ]
     },
     "metadata": {
      "needs_background": "light"
     },
     "output_type": "display_data"
    },
    {
     "data": {
      "image/png": "[encoded data removed]",
      "text/plain": [
       "<Figure size 432x288 with 1 Axes>"
      ]
     },
     "metadata": {
      "needs_background": "light"
     },
     "output_type": "display_data"
    },
    {
     "data": {
      "image/png": "[encoded data removed]",
      "text/plain": [
       "<Figure size 432x288 with 1 Axes>"
      ]
     },
     "metadata": {
      "needs_background": "light"
     },
     "output_type": "display_data"
    },
    {
     "data": {
      "image/png": "[encoded data removed]",
      "text/plain": [
       "<Figure size 432x288 with 1 Axes>"
      ]
     },
     "metadata": {
      "needs_background": "light"
     },
     "output_type": "display_data"
    },
    {
     "data": {
      "image/png": "[encoded data removed]",
      "text/plain": [
       "<Figure size 432x288 with 1 Axes>"
      ]
     },
     "metadata": {
      "needs_background": "light"
     },
     "output_type": "display_data"
    },
    {
     "data": {
      "image/png": "[encoded data removed]",
      "text/plain": [
       "<Figure size 432x288 with 1 Axes>"
      ]
     },
     "metadata": {
      "needs_background": "light"
     },
     "output_type": "display_data"
    },
    {
     "data": {
      "image/png": "[encoded data removed]",
      "text/plain": [
       "<Figure size 432x288 with 1 Axes>"
      ]
     },
     "metadata": {
      "needs_background": "light"
     },
     "output_type": "display_data"
    }
   ],
   "source": [
    "for column in general.columns : \n",
    "    plt.hist(general[column].squeeze() , bins = 100)\n",
    "    plt.xlabel(column)\n",
    "    plt.show()"
   ]
  },
  {
   "cell_type": "code",
   "execution_count": 66,
   "id": "9ba7fef7",
   "metadata": {},
   "outputs": [
    {
     "data": {
      "text/plain": [
       "0       0\n",
       "1       0\n",
       "2       0\n",
       "3       0\n",
       "4       0\n",
       "       ..\n",
       "4405    0\n",
       "4406    0\n",
       "4407    0\n",
       "4408    0\n",
       "4409    0\n",
       "Name: Over18, Length: 4410, dtype: int64"
      ]
     },
     "execution_count": 66,
     "metadata": {},
     "output_type": "execute_result"
    }
   ],
   "source": [
    "general['Over18']"
   ]
  }
 ],
 "metadata": {
  "kernelspec": {
   "display_name": "Python 3 (ipykernel)",
   "language": "python",
   "name": "python3"
  },
  "language_info": {
   "codemirror_mode": {
    "name": "ipython",
    "version": 3
   },
   "file_extension": ".py",
   "mimetype": "text/x-python",
   "name": "python",
   "nbconvert_exporter": "python",
   "pygments_lexer": "ipython3",
   "version": "3.9.7"
  }
 },
 "nbformat": 4,
 "nbformat_minor": 5
}
