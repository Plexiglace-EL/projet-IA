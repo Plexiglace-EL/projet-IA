{
 "cells": [
  {
   "cell_type": "code",
   "execution_count": 48,
   "id": "eb476ca0",
   "metadata": {},
   "outputs": [],
   "source": [
    "# IMPORTS FOR ALL THE PROJECT\n",
    "import numpy as np\n",
    "import os\n",
    "import requests\n",
    "from numpy.random import default_rng\n",
    "import matplotlib\n",
    "import matplotlib.pyplot as plt\n",
    "import tarfile\n",
    "from six.moves import urllib\n",
    "import pandas as pd\n",
    "\n"
   ]
  },
  {
   "cell_type": "markdown",
   "id": "e40d5492",
   "metadata": {},
   "source": [
    "## Data imports"
   ]
  },
  {
   "cell_type": "code",
   "execution_count": 49,
   "id": "cd15f3c3",
   "metadata": {},
   "outputs": [],
   "source": [
    "# PATH TO THE FILES\n",
    "\n",
    "urls= ['https://raw.githubusercontent.com/Plexiglace-EL/projet-IA/main/general_data.csv',\n",
    "       'https://raw.githubusercontent.com/Plexiglace-EL/projet-IA/main/manager_survey_data.csv',\n",
    "       'https://raw.githubusercontent.com/Plexiglace-EL/projet-IA/main/employee_survey_data.csv',\n",
    "       'https://raw.githubusercontent.com/Plexiglace-EL/projet-IA/main/in_time.csv',\n",
    "       'https://raw.githubusercontent.com/Plexiglace-EL/projet-IA/main/out_time.csv']\n",
    "\n",
    "paths = ['./datasets/general_data.csv',\n",
    "         './datasets/manager_survey_data.csv',\n",
    "         './datasets/employee_survey_data.csv',\n",
    "         './datasets/in_time.csv',\n",
    "         './datasets/out_time.csv']"
   ]
  },
  {
   "cell_type": "code",
   "execution_count": 50,
   "id": "60178484",
   "metadata": {},
   "outputs": [],
   "source": [
    "\n",
    "def fetch_datas(url, path):\n",
    "    localfile, header = urllib.request.urlretrieve(url, path)\n",
    "    print(localfile)\n",
    "    return localfile\n",
    "\n",
    "def extractZip(path):\n",
    "    with tarfile.open(path) as tf:\n",
    "        tf.extractall('./datasets')\n"
   ]
  },
  {
   "cell_type": "code",
   "execution_count": 51,
   "id": "48a24daa",
   "metadata": {},
   "outputs": [],
   "source": [
    "def import_all_files():\n",
    "    print('==='*4, \"BEGIN\", '==='*4)\n",
    "\n",
    "\n",
    "    if not os.path.exists('./datasets/'):\n",
    "        print('==='*4, \"CREATING \\\"./datasets/\\\" DIRECTORY\", '==='*4)\n",
    "        os.mkdir('./datasets')\n",
    "\n",
    "    for i, url in enumerate(urls):\n",
    "        fetch_datas(urls[i], paths[i])\n",
    "\n",
    "    print('==='*4, \"FINISHED\", '==='*4)"
   ]
  },
  {
   "cell_type": "markdown",
   "id": "6488110f",
   "metadata": {},
   "source": [
    "## Data loading in dataframes"
   ]
  },
  {
   "cell_type": "code",
   "execution_count": 52,
   "id": "a29c9ef9",
   "metadata": {},
   "outputs": [],
   "source": [
    "def load_datas(path):\n",
    "    datas = pd.read_csv(path)\n",
    "    return datas"
   ]
  },
  {
   "cell_type": "code",
   "execution_count": 53,
   "id": "ab172266",
   "metadata": {},
   "outputs": [],
   "source": [
    "#import_all_files()"
   ]
  },
  {
   "cell_type": "code",
   "execution_count": 54,
   "id": "e55cdcac",
   "metadata": {},
   "outputs": [],
   "source": [
    "X = load_datas(paths[0])\n",
    "y = X.loc[:, ['Attrition']]\n",
    "X = X.drop(columns=['EmployeeID', 'EmployeeCount', 'Attrition', 'Over18', 'StandardHours'], axis=1)\n",
    "manager_survey = load_datas(paths[1])\n",
    "employee_survey = load_datas(paths[2])\n",
    "in_time = load_datas(paths[3])\n",
    "out_time = load_datas(paths[4])"
   ]
  },
  {
   "cell_type": "markdown",
   "id": "06265b5c",
   "metadata": {},
   "source": [
    "## Data Normalisation and Standardisation"
   ]
  },
  {
   "cell_type": "code",
   "execution_count": 55,
   "id": "e046fd88",
   "metadata": {},
   "outputs": [],
   "source": [
    "def converting_string_to_dates(in_time, out_time):\n",
    "    # RENAMING THE UNNAMED COLUMN (ID_EMPLOYEE) FOR IT TO BE USEABLE MORE EASILY IN THE FUTURE\n",
    "\n",
    "    in_time = in_time.rename(columns={'Unnamed: 0': 'id_employee'})\n",
    "    out_time = out_time.rename(columns={'Unnamed: 0': 'id_employee'})\n",
    "\n",
    "\n",
    "    # WE CAN USE THE COLUMNS OF ONLY ONE FILE BECAUSE THEY ARE BOTH THE SAME AND CONTAINS THE SAME HEADERS NAME\n",
    "    # IT HAS BEEN VERIFIED USING LIST COMPARISON AND UNIQUE() CONDITION TO FILTER AND WE END WITH A TOTAL OF 262 COLUMNS\n",
    "    cols = in_time.columns\n",
    "\n",
    "\n",
    "    # CONVERTING THE DATES TO REAL PANDAS DATES OBJECT\n",
    "    for i in cols:\n",
    "        if i != 'id_employee':\n",
    "            in_time[i] = pd.to_datetime(in_time[i])\n",
    "            out_time[i] = pd.to_datetime(out_time[i])\n",
    "\n",
    "    return in_time, out_time"
   ]
  },
  {
   "cell_type": "code",
   "execution_count": 56,
   "id": "1fe5c0c6",
   "metadata": {},
   "outputs": [],
   "source": [
    "#converting in and out time dataframes into pandas date obj\n",
    "in_time, out_time = converting_string_to_dates(in_time, out_time)"
   ]
  },
  {
   "cell_type": "code",
   "execution_count": 57,
   "id": "bafd567d",
   "metadata": {},
   "outputs": [],
   "source": [
    "# using the converted dates to calculate the working time of each employee\n",
    "def calculate_working_time():\n",
    "\n",
    "    working_time = in_time.copy()\n",
    "    for i in working_time:\n",
    "        if i != 'id_employee':\n",
    "            working_time[i] = out_time[i] - working_time[i]\n",
    "            \n",
    "    return working_time"
   ]
  },
  {
   "cell_type": "markdown",
   "id": "15f3ca45",
   "metadata": {},
   "source": [
    "Adding working data to General Dataframe"
   ]
  },
  {
   "cell_type": "code",
   "execution_count": 58,
   "id": "c29a7b77",
   "metadata": {},
   "outputs": [],
   "source": [
    "working_time = calculate_working_time()"
   ]
  },
  {
   "cell_type": "markdown",
   "id": "1a9080af",
   "metadata": {},
   "source": [
    "Adding Employee and Manager Survey to DataFrame"
   ]
  },
  {
   "cell_type": "code",
   "execution_count": 59,
   "id": "9b1e547b",
   "metadata": {},
   "outputs": [],
   "source": [
    "\n",
    "\n",
    "def import_columns(X):\n",
    "    print('==='*5)\n",
    "    print('IMPORTING COLUMNS FROM OTHER DATAFRAMES TO MAIN DATAFRAME')\n",
    "    print('==='*5, '\\n')\n",
    "\n",
    "    # Adding the calculated mean value of the working time of each employee to the main dataframe\n",
    "    mean_time = working_time.copy()\n",
    "    mean_time = mean_time.drop('id_employee', axis=1)\n",
    "    X['mean-timework'] = mean_time.mean(axis = 1)\n",
    "    X['mean-timework'] = X['mean-timework'].dt.total_seconds() / 3600\n",
    "    X['mean-timework'] = round(X['mean-timework'], 2)\n",
    "    # Adding the rest of the datas (from the survey)\n",
    "    X['EnvironmentSatisfaction'] = employee_survey['EnvironmentSatisfaction']\n",
    "    X['JobSatisfaction'] = employee_survey['JobSatisfaction']\n",
    "    X['WorkLifeBalance'] = employee_survey['WorkLifeBalance']\n",
    "    X['JobInvolvement'] = manager_survey['JobInvolvement']\n",
    "    X['PerformanceRating'] = manager_survey['PerformanceRating']\n",
    "\n",
    "    # Reformating the column of the existing general DF for comprehension\n",
    "    X = X.reindex(columns=['EmployeeID','Age','Attrition','BusinessTravel','Department','DistanceFromHome','Education','EducationField','EmployeeCount','Gender','JobLevel','JobRole','MaritalStatus','MonthlyIncome','NumCompaniesWorked','Over18','PercentSalaryHike','StandardHours','StockOptionLevel','TotalWorkingYears','TrainingTimesLastYear','YearsAtCompany','YearsSinceLastPromotion','YearsWithCurrManager','mean-timework','EnvironmentSatisfaction','JobSatisfaction','WorkLifeBalance','JobInvolvement','PerformanceRating'])\n"
   ]
  },
  {
   "cell_type": "markdown",
   "id": "59e1826d",
   "metadata": {},
   "source": [
    "Removing error values and replace them with their median"
   ]
  },
  {
   "cell_type": "code",
   "execution_count": 60,
   "id": "ef7f6857",
   "metadata": {},
   "outputs": [],
   "source": [
    "def fill_nan(X):\n",
    "    print('==='*5)\n",
    "    print('REPLACING NULL VALUES WITH MEDIAN OR MEAN VALUES OF THE CORREPONDING EMPLOYEE')\n",
    "    print('==='*5, '\\n')\n",
    "\n",
    "    X[\"NumCompaniesWorked\"] = X[\"NumCompaniesWorked\"].fillna(X[\"NumCompaniesWorked\"].median())\n",
    "    X[\"TotalWorkingYears\"] = X[\"TotalWorkingYears\"].fillna(X[\"TotalWorkingYears\"].median())\n",
    "\n",
    "    environmentSatisMean = X[\"EnvironmentSatisfaction\"].mean(axis = 0)\n",
    "    jobSatisMean = X[\"JobSatisfaction\"].mean(axis=0)\n",
    "    worklifemean = X[\"WorkLifeBalance\"].mean(axis=0)\n",
    "\n",
    "    for a, value in X['EnvironmentSatisfaction'].isnull().iteritems():\n",
    "        if value:\n",
    "            X['EnvironmentSatisfaction'][a] = environmentSatisMean\n",
    "\n",
    "    for a, value in X[\"JobSatisfaction\"].isnull().iteritems():\n",
    "        if value:\n",
    "            X['JobSatisfaction'][a] = jobSatisMean\n",
    "\n",
    "    for a, value in X[\"WorkLifeBalance\"].isnull().iteritems():\n",
    "        if value:\n",
    "            X['WorkLifeBalance'][a] = worklifemean"
   ]
  },
  {
   "cell_type": "markdown",
   "id": "ad07ee23",
   "metadata": {},
   "source": [
    "Separing numerics data from categorical data for normalisation purpose"
   ]
  },
  {
   "cell_type": "code",
   "execution_count": 61,
   "id": "3583a8f6",
   "metadata": {},
   "outputs": [],
   "source": [
    "def get_attribs(X):\n",
    "\n",
    "\n",
    "    num_attribs = list(X.select_dtypes(include=[np.number]))\n",
    "    cat_attribs = list(X.select_dtypes(exclude=[np.number]))\n",
    "\n",
    "    return num_attribs, cat_attribs"
   ]
  },
  {
   "cell_type": "code",
   "execution_count": 62,
   "id": "00ad36cd",
   "metadata": {},
   "outputs": [],
   "source": [
    "# Encoder to convert the text data to actual values\n",
    "\n",
    "from sklearn.preprocessing import LabelEncoder\n",
    "label_enc = LabelEncoder()\n",
    "\n",
    "    \n",
    "def personnal_encoder(df, col):\n",
    "    df[col] = label_enc.fit_transform(df[col])\n",
    "    return df\n",
    "\n",
    "def label_encoding(df):\n",
    "    num_attribs, cat_attribs = get_attribs(df)\n",
    "    print('==='*5)\n",
    "    print('ENCODING THE FOLLOWING ATTRIBUTES : \\n',cat_attribs)\n",
    "    print('==='*5, '\\n')\n",
    "    for i in cat_attribs:\n",
    "        df = personnal_encoder(df, i)"
   ]
  },
  {
   "cell_type": "code",
   "execution_count": 63,
   "id": "41fda1fd",
   "metadata": {},
   "outputs": [],
   "source": [
    "from sklearn.preprocessing import StandardScaler\n",
    "def standard_scaler(X):\n",
    "    sts = StandardScaler()\n",
    "    num_attribs, cat_attribs = get_attribs(X)\n",
    "    \n",
    "    print('==='*5)\n",
    "    print('SCALING THE FOLLOWING ATTRIBUTES : \\n', num_attribs)\n",
    "    print('==='*5, '\\n')\n",
    "    X_num = X.loc[:, num_attribs]\n",
    "    sts.fit(X_num)\n",
    "    X_num = pd.DataFrame(sts.transform(X_num), columns=num_attribs)\n",
    "    for i in X_num.columns:\n",
    "        X[i] = X_num[i]"
   ]
  },
  {
   "cell_type": "markdown",
   "id": "d5eaa9f3",
   "metadata": {},
   "source": [
    "## Preparation Pipeline"
   ]
  },
  {
   "cell_type": "markdown",
   "id": "40ea8993",
   "metadata": {},
   "source": [
    "Pipeline to normalize and standardize the datas depending on if it's a categorical value or a numeric value"
   ]
  },
  {
   "cell_type": "code",
   "execution_count": 64,
   "id": "95f57e11",
   "metadata": {},
   "outputs": [
    {
     "name": "stdout",
     "output_type": "stream",
     "text": [
      "===============\n",
      "IMPORTING COLUMNS FROM OTHER DATAFRAMES TO MAIN DATAFRAME\n",
      "=============== \n",
      "\n",
      "===============\n",
      "REPLACING NULL VALUES WITH MEDIAN OR MEAN VALUES OF THE CORREPONDING EMPLOYEE\n",
      "=============== \n",
      "\n"
     ]
    },
    {
     "name": "stderr",
     "output_type": "stream",
     "text": [
      "C:\\Users\\achil\\AppData\\Local\\Temp\\ipykernel_288\\3267696405.py:15: SettingWithCopyWarning: \n",
      "A value is trying to be set on a copy of a slice from a DataFrame\n",
      "\n",
      "See the caveats in the documentation: https://pandas.pydata.org/pandas-docs/stable/user_guide/indexing.html#returning-a-view-versus-a-copy\n",
      "  X['EnvironmentSatisfaction'][a] = environmentSatisMean\n",
      "C:\\Users\\achil\\AppData\\Local\\Temp\\ipykernel_288\\3267696405.py:19: SettingWithCopyWarning: \n",
      "A value is trying to be set on a copy of a slice from a DataFrame\n",
      "\n",
      "See the caveats in the documentation: https://pandas.pydata.org/pandas-docs/stable/user_guide/indexing.html#returning-a-view-versus-a-copy\n",
      "  X['JobSatisfaction'][a] = jobSatisMean\n",
      "C:\\Users\\achil\\AppData\\Local\\Temp\\ipykernel_288\\3267696405.py:23: SettingWithCopyWarning: \n",
      "A value is trying to be set on a copy of a slice from a DataFrame\n",
      "\n",
      "See the caveats in the documentation: https://pandas.pydata.org/pandas-docs/stable/user_guide/indexing.html#returning-a-view-versus-a-copy\n",
      "  X['WorkLifeBalance'][a] = worklifemean\n"
     ]
    },
    {
     "name": "stdout",
     "output_type": "stream",
     "text": [
      "===============\n",
      "ENCODING THE FOLLOWING ATTRIBUTES : \n",
      " ['BusinessTravel', 'Department', 'EducationField', 'Gender', 'JobRole', 'MaritalStatus']\n",
      "=============== \n",
      "\n",
      "===============\n",
      "ENCODING THE FOLLOWING ATTRIBUTES : \n",
      " ['Attrition']\n",
      "=============== \n",
      "\n",
      "===============\n",
      "SCALING THE FOLLOWING ATTRIBUTES : \n",
      " ['Age', 'BusinessTravel', 'Department', 'DistanceFromHome', 'Education', 'EducationField', 'Gender', 'JobLevel', 'JobRole', 'MaritalStatus', 'MonthlyIncome', 'NumCompaniesWorked', 'PercentSalaryHike', 'StockOptionLevel', 'TotalWorkingYears', 'TrainingTimesLastYear', 'YearsAtCompany', 'YearsSinceLastPromotion', 'YearsWithCurrManager', 'mean-timework', 'EnvironmentSatisfaction', 'JobSatisfaction', 'WorkLifeBalance', 'JobInvolvement', 'PerformanceRating']\n",
      "=============== \n",
      "\n"
     ]
    },
    {
     "data": {
      "text/plain": [
       "Pipeline(steps=[('import', FunctionTransformer()),\n",
       "                ('fill_nan', FunctionTransformer()),\n",
       "                ('prep', FunctionTransformer()),\n",
       "                ('prepy', FunctionTransformer()),\n",
       "                ('scaler', FunctionTransformer())])"
      ]
     },
     "execution_count": 64,
     "metadata": {},
     "output_type": "execute_result"
    }
   ],
   "source": [
    "from sklearn.preprocessing import FunctionTransformer\n",
    "from sklearn.pipeline import Pipeline\n",
    "from sklearn.preprocessing import LabelEncoder\n",
    "from sklearn.preprocessing import StandardScaler\n",
    "\n",
    "\n",
    "\n",
    "prep_pipeline = Pipeline(\n",
    "    [\n",
    "        ('import', FunctionTransformer(import_columns(X))),\n",
    "        ('fill_nan', FunctionTransformer(fill_nan(X))),\n",
    "        ('prep', FunctionTransformer(label_encoding(X))),\n",
    "        ('prepy', FunctionTransformer(label_encoding(y))),\n",
    "        ('scaler', FunctionTransformer(standard_scaler(X)))\n",
    "    ]\n",
    ")\n",
    "prep_pipeline.fit(X, y)"
   ]
  },
  {
   "cell_type": "markdown",
   "id": "d9e739da",
   "metadata": {},
   "source": [
    "Model Pipeline, this pipeline contains a model that will be used to predict the results using the data normalized before"
   ]
  },
  {
   "cell_type": "code",
   "execution_count": 65,
   "id": "32fe2afd",
   "metadata": {},
   "outputs": [
    {
     "data": {
      "text/plain": [
       "0.9807256235827665"
      ]
     },
     "execution_count": 65,
     "metadata": {},
     "output_type": "execute_result"
    }
   ],
   "source": [
    "from sklearn.compose import ColumnTransformer\n",
    "from sklearn.preprocessing import FunctionTransformer\n",
    "from sklearn.pipeline import Pipeline\n",
    "from sklearn.preprocessing import StandardScaler\n",
    "from sklearn.model_selection import train_test_split\n",
    "from sklearn.tree import DecisionTreeClassifier\n",
    "\n",
    "\n",
    "\n",
    "X_train, X_Test, y_train, y_test = train_test_split(X, y, test_size=0.2, random_state=42)\n",
    "\n",
    "\n",
    "pipeline = Pipeline(\n",
    "    [\n",
    "        ('tree', DecisionTreeClassifier())   \n",
    "    ]\n",
    ")\n",
    "pipeline.fit(X_train, y_train)\n",
    "pipeline.score(X_Test, y_test)"
   ]
  },
  {
   "cell_type": "markdown",
   "id": "b7ebf944",
   "metadata": {},
   "source": [
    "Working with the data to create correlation matrixs"
   ]
  },
  {
   "cell_type": "code",
   "execution_count": 66,
   "id": "c8e7325c",
   "metadata": {},
   "outputs": [],
   "source": [
    "X_corr = X.loc[:, :]\n",
    "X_corr['Attrition'] = y.copy()\n",
    "X_corr = personnal_encoder(X_corr, 'Attrition')"
   ]
  },
  {
   "cell_type": "code",
   "execution_count": 70,
   "id": "29a56229",
   "metadata": {},
   "outputs": [
    {
     "data": {
      "text/plain": [
       "0       0\n",
       "1       1\n",
       "2       0\n",
       "3       0\n",
       "4       0\n",
       "       ..\n",
       "4405    0\n",
       "4406    0\n",
       "4407    0\n",
       "4408    0\n",
       "4409    0\n",
       "Name: Attrition, Length: 4410, dtype: int32"
      ]
     },
     "execution_count": 70,
     "metadata": {},
     "output_type": "execute_result"
    }
   ],
   "source": [
    "size = len(X_corr.columns)\n",
    "correlation  = X_corr.corr(method='pearson')\n",
    "small = list(correlation.nsmallest(size, 'Attrition').index)\n",
    "neg_corr = X_corr.loc[:, small]"
   ]
  },
  {
   "cell_type": "markdown",
   "id": "a1bf2969",
   "metadata": {},
   "source": [
    "Correlation Matrixs"
   ]
  },
  {
   "cell_type": "code",
   "execution_count": 68,
   "id": "cbd3c8d3",
   "metadata": {},
   "outputs": [],
   "source": [
    "import seaborn as sns\n",
    "# plt.figure(figsize = (50,50))\n",
    "# sns.heatmap(neg_corr.corr(method='pearson'), annot= True, annot_kws={'size': 18})\n",
    "# plt.show()"
   ]
  },
  {
   "cell_type": "code",
   "execution_count": 69,
   "id": "49f4da75",
   "metadata": {},
   "outputs": [],
   "source": [
    "import seaborn as sns\n",
    "# X_corr_2 = X.loc[:, :]\n",
    "\n",
    "# #X_corr_2 = X_corr_2.drop(columns=['Age', 'Education', 'NumCompaniesWorked', 'PercentSalaryHike', 'TotalWorkingYears', 'TrainingTimesLastYear', 'YearsAtCompany', 'YearsSinceLastPromotion', 'YearsWithCurrManager', 'StandardHours', 'Over18'])\n",
    "# plt.figure(figsize=(50, 40))\n",
    "# correlation = X_corr_2.corr(method='pearson')\n",
    "# correlation.describe()\n",
    "# sns.heatmap(correlation, annot=True, annot_kws={'size': 22})\n",
    "# plt.show()\n",
    "\n"
   ]
  },
  {
   "cell_type": "code",
   "execution_count": null,
   "id": "78b9327f",
   "metadata": {},
   "outputs": [],
   "source": []
  },
  {
   "cell_type": "markdown",
   "id": "9f43bbd5",
   "metadata": {},
   "source": [
    "Model Creation"
   ]
  },
  {
   "cell_type": "code",
   "execution_count": null,
   "id": "69e403c7",
   "metadata": {},
   "outputs": [],
   "source": [
    "\n",
    "\n"
   ]
  }
 ],
 "metadata": {
  "kernelspec": {
   "display_name": "Python 3 (ipykernel)",
   "language": "python",
   "name": "python3"
  },
  "language_info": {
   "codemirror_mode": {
    "name": "ipython",
    "version": 3
   },
   "file_extension": ".py",
   "mimetype": "text/x-python",
   "name": "python",
   "nbconvert_exporter": "python",
   "pygments_lexer": "ipython3",
   "version": "3.10.2"
  }
 },
 "nbformat": 4,
 "nbformat_minor": 5
}
