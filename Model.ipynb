{
 "cells": [
  {
   "cell_type": "code",
   "execution_count": 1,
   "id": "eb476ca0",
   "metadata": {},
   "outputs": [],
   "source": [
    "# IMPORTS FOR ALL THE PROJECT\n",
    "import numpy as np\n",
    "import os\n",
    "import requests\n",
    "from numpy.random import default_rng\n",
    "import matplotlib\n",
    "import matplotlib.pyplot as plt\n",
    "import tarfile\n",
    "from six.moves import urllib\n",
    "import pandas as pd\n",
    "\n"
   ]
  },
  {
   "cell_type": "markdown",
   "id": "e40d5492",
   "metadata": {},
   "source": [
    "## Data imports"
   ]
  },
  {
   "cell_type": "code",
   "execution_count": 2,
   "id": "cd15f3c3",
   "metadata": {},
   "outputs": [],
   "source": [
    "# PATH TO THE FILES\n",
    "\n",
    "urls= ['https://raw.githubusercontent.com/Plexiglace-EL/projet-IA/main/general_data.csv',\n",
    "       'https://raw.githubusercontent.com/Plexiglace-EL/projet-IA/main/manager_survey_data.csv',\n",
    "       'https://raw.githubusercontent.com/Plexiglace-EL/projet-IA/main/employee_survey_data.csv',\n",
    "       'https://raw.githubusercontent.com/Plexiglace-EL/projet-IA/main/in_time.csv',\n",
    "       'https://raw.githubusercontent.com/Plexiglace-EL/projet-IA/main/out_time.csv']\n",
    "\n",
    "paths = ['./datasets/general_data.csv',\n",
    "         './datasets/manager_survey_data.csv',\n",
    "         './datasets/employee_survey_data.csv',\n",
    "         './datasets/in_time.csv',\n",
    "         './datasets/out_time.csv']"
   ]
  },
  {
   "cell_type": "code",
   "execution_count": 3,
   "id": "60178484",
   "metadata": {},
   "outputs": [],
   "source": [
    "\n",
    "def fetch_datas(url, path):\n",
    "    localfile, header = urllib.request.urlretrieve(url, path)\n",
    "    print(localfile)\n",
    "    return localfile\n",
    "\n",
    "def extractZip(path):\n",
    "    with tarfile.open(path) as tf:\n",
    "        tf.extractall('./datasets')\n"
   ]
  },
  {
   "cell_type": "code",
   "execution_count": 4,
   "id": "48a24daa",
   "metadata": {},
   "outputs": [],
   "source": [
    "def import_all_files():\n",
    "    print('==='*4, \"BEGIN\", '==='*4)\n",
    "\n",
    "\n",
    "    if not os.path.exists('./datasets/'):\n",
    "        print('==='*4, \"CREATING \\\"./datasets/\\\" DIRECTORY\", '==='*4)\n",
    "        os.mkdir('./datasets')\n",
    "\n",
    "    for i, url in enumerate(urls):\n",
    "        fetch_datas(urls[i], paths[i])\n",
    "\n",
    "    print('==='*4, \"FINISHED\", '==='*4)"
   ]
  },
  {
   "cell_type": "markdown",
   "id": "6488110f",
   "metadata": {},
   "source": [
    "## Data loading in dataframes"
   ]
  },
  {
   "cell_type": "code",
   "execution_count": 5,
   "id": "a29c9ef9",
   "metadata": {},
   "outputs": [],
   "source": [
    "def load_datas(path):\n",
    "    datas = pd.read_csv(path)\n",
    "    return datas"
   ]
  },
  {
   "cell_type": "code",
   "execution_count": 6,
   "id": "ab172266",
   "metadata": {},
   "outputs": [],
   "source": [
    "#import_all_files()"
   ]
  },
  {
   "cell_type": "code",
   "execution_count": 7,
   "id": "e55cdcac",
   "metadata": {},
   "outputs": [
    {
     "ename": "FileNotFoundError",
     "evalue": "[Errno 2] No such file or directory: './datasets/general_data.csv'",
     "output_type": "error",
     "traceback": [
      "\u001b[0;31m---------------------------------------------------------------------------\u001b[0m",
      "\u001b[0;31mFileNotFoundError\u001b[0m                         Traceback (most recent call last)",
      "\u001b[0;32m/var/folders/h0/cy1ln8px4bd1n1wrb07kgdqr0000gn/T/ipykernel_56178/2947165601.py\u001b[0m in \u001b[0;36m<module>\u001b[0;34m\u001b[0m\n\u001b[0;32m----> 1\u001b[0;31m \u001b[0mX\u001b[0m \u001b[0;34m=\u001b[0m \u001b[0mload_datas\u001b[0m\u001b[0;34m(\u001b[0m\u001b[0mpaths\u001b[0m\u001b[0;34m[\u001b[0m\u001b[0;36m0\u001b[0m\u001b[0;34m]\u001b[0m\u001b[0;34m)\u001b[0m\u001b[0;34m\u001b[0m\u001b[0;34m\u001b[0m\u001b[0m\n\u001b[0m\u001b[1;32m      2\u001b[0m \u001b[0my\u001b[0m \u001b[0;34m=\u001b[0m \u001b[0mX\u001b[0m\u001b[0;34m.\u001b[0m\u001b[0mloc\u001b[0m\u001b[0;34m[\u001b[0m\u001b[0;34m:\u001b[0m\u001b[0;34m,\u001b[0m \u001b[0;34m[\u001b[0m\u001b[0;34m'Attrition'\u001b[0m\u001b[0;34m]\u001b[0m\u001b[0;34m]\u001b[0m\u001b[0;34m\u001b[0m\u001b[0;34m\u001b[0m\u001b[0m\n\u001b[1;32m      3\u001b[0m \u001b[0mX\u001b[0m \u001b[0;34m=\u001b[0m \u001b[0mX\u001b[0m\u001b[0;34m.\u001b[0m\u001b[0mdrop\u001b[0m\u001b[0;34m(\u001b[0m\u001b[0mcolumns\u001b[0m\u001b[0;34m=\u001b[0m\u001b[0;34m[\u001b[0m\u001b[0;34m'EmployeeID'\u001b[0m\u001b[0;34m,\u001b[0m \u001b[0;34m'EmployeeCount'\u001b[0m\u001b[0;34m,\u001b[0m \u001b[0;34m'Attrition'\u001b[0m\u001b[0;34m,\u001b[0m \u001b[0;34m'Over18'\u001b[0m\u001b[0;34m,\u001b[0m \u001b[0;34m'StandardHours'\u001b[0m\u001b[0;34m]\u001b[0m\u001b[0;34m,\u001b[0m \u001b[0maxis\u001b[0m\u001b[0;34m=\u001b[0m\u001b[0;36m1\u001b[0m\u001b[0;34m)\u001b[0m\u001b[0;34m\u001b[0m\u001b[0;34m\u001b[0m\u001b[0m\n\u001b[1;32m      4\u001b[0m \u001b[0mmanager_survey\u001b[0m \u001b[0;34m=\u001b[0m \u001b[0mload_datas\u001b[0m\u001b[0;34m(\u001b[0m\u001b[0mpaths\u001b[0m\u001b[0;34m[\u001b[0m\u001b[0;36m1\u001b[0m\u001b[0;34m]\u001b[0m\u001b[0;34m)\u001b[0m\u001b[0;34m\u001b[0m\u001b[0;34m\u001b[0m\u001b[0m\n\u001b[1;32m      5\u001b[0m \u001b[0memployee_survey\u001b[0m \u001b[0;34m=\u001b[0m \u001b[0mload_datas\u001b[0m\u001b[0;34m(\u001b[0m\u001b[0mpaths\u001b[0m\u001b[0;34m[\u001b[0m\u001b[0;36m2\u001b[0m\u001b[0;34m]\u001b[0m\u001b[0;34m)\u001b[0m\u001b[0;34m\u001b[0m\u001b[0;34m\u001b[0m\u001b[0m\n",
      "\u001b[0;32m/var/folders/h0/cy1ln8px4bd1n1wrb07kgdqr0000gn/T/ipykernel_56178/4201204936.py\u001b[0m in \u001b[0;36mload_datas\u001b[0;34m(path)\u001b[0m\n\u001b[1;32m      1\u001b[0m \u001b[0;32mdef\u001b[0m \u001b[0mload_datas\u001b[0m\u001b[0;34m(\u001b[0m\u001b[0mpath\u001b[0m\u001b[0;34m)\u001b[0m\u001b[0;34m:\u001b[0m\u001b[0;34m\u001b[0m\u001b[0;34m\u001b[0m\u001b[0m\n\u001b[0;32m----> 2\u001b[0;31m     \u001b[0mdatas\u001b[0m \u001b[0;34m=\u001b[0m \u001b[0mpd\u001b[0m\u001b[0;34m.\u001b[0m\u001b[0mread_csv\u001b[0m\u001b[0;34m(\u001b[0m\u001b[0mpath\u001b[0m\u001b[0;34m)\u001b[0m\u001b[0;34m\u001b[0m\u001b[0;34m\u001b[0m\u001b[0m\n\u001b[0m\u001b[1;32m      3\u001b[0m     \u001b[0;32mreturn\u001b[0m \u001b[0mdatas\u001b[0m\u001b[0;34m\u001b[0m\u001b[0;34m\u001b[0m\u001b[0m\n",
      "\u001b[0;32m~/opt/anaconda3/lib/python3.9/site-packages/pandas/util/_decorators.py\u001b[0m in \u001b[0;36mwrapper\u001b[0;34m(*args, **kwargs)\u001b[0m\n\u001b[1;32m    309\u001b[0m                     \u001b[0mstacklevel\u001b[0m\u001b[0;34m=\u001b[0m\u001b[0mstacklevel\u001b[0m\u001b[0;34m,\u001b[0m\u001b[0;34m\u001b[0m\u001b[0;34m\u001b[0m\u001b[0m\n\u001b[1;32m    310\u001b[0m                 )\n\u001b[0;32m--> 311\u001b[0;31m             \u001b[0;32mreturn\u001b[0m \u001b[0mfunc\u001b[0m\u001b[0;34m(\u001b[0m\u001b[0;34m*\u001b[0m\u001b[0margs\u001b[0m\u001b[0;34m,\u001b[0m \u001b[0;34m**\u001b[0m\u001b[0mkwargs\u001b[0m\u001b[0;34m)\u001b[0m\u001b[0;34m\u001b[0m\u001b[0;34m\u001b[0m\u001b[0m\n\u001b[0m\u001b[1;32m    312\u001b[0m \u001b[0;34m\u001b[0m\u001b[0m\n\u001b[1;32m    313\u001b[0m         \u001b[0;32mreturn\u001b[0m \u001b[0mwrapper\u001b[0m\u001b[0;34m\u001b[0m\u001b[0;34m\u001b[0m\u001b[0m\n",
      "\u001b[0;32m~/opt/anaconda3/lib/python3.9/site-packages/pandas/io/parsers/readers.py\u001b[0m in \u001b[0;36mread_csv\u001b[0;34m(filepath_or_buffer, sep, delimiter, header, names, index_col, usecols, squeeze, prefix, mangle_dupe_cols, dtype, engine, converters, true_values, false_values, skipinitialspace, skiprows, skipfooter, nrows, na_values, keep_default_na, na_filter, verbose, skip_blank_lines, parse_dates, infer_datetime_format, keep_date_col, date_parser, dayfirst, cache_dates, iterator, chunksize, compression, thousands, decimal, lineterminator, quotechar, quoting, doublequote, escapechar, comment, encoding, encoding_errors, dialect, error_bad_lines, warn_bad_lines, on_bad_lines, delim_whitespace, low_memory, memory_map, float_precision, storage_options)\u001b[0m\n\u001b[1;32m    584\u001b[0m     \u001b[0mkwds\u001b[0m\u001b[0;34m.\u001b[0m\u001b[0mupdate\u001b[0m\u001b[0;34m(\u001b[0m\u001b[0mkwds_defaults\u001b[0m\u001b[0;34m)\u001b[0m\u001b[0;34m\u001b[0m\u001b[0;34m\u001b[0m\u001b[0m\n\u001b[1;32m    585\u001b[0m \u001b[0;34m\u001b[0m\u001b[0m\n\u001b[0;32m--> 586\u001b[0;31m     \u001b[0;32mreturn\u001b[0m \u001b[0m_read\u001b[0m\u001b[0;34m(\u001b[0m\u001b[0mfilepath_or_buffer\u001b[0m\u001b[0;34m,\u001b[0m \u001b[0mkwds\u001b[0m\u001b[0;34m)\u001b[0m\u001b[0;34m\u001b[0m\u001b[0;34m\u001b[0m\u001b[0m\n\u001b[0m\u001b[1;32m    587\u001b[0m \u001b[0;34m\u001b[0m\u001b[0m\n\u001b[1;32m    588\u001b[0m \u001b[0;34m\u001b[0m\u001b[0m\n",
      "\u001b[0;32m~/opt/anaconda3/lib/python3.9/site-packages/pandas/io/parsers/readers.py\u001b[0m in \u001b[0;36m_read\u001b[0;34m(filepath_or_buffer, kwds)\u001b[0m\n\u001b[1;32m    480\u001b[0m \u001b[0;34m\u001b[0m\u001b[0m\n\u001b[1;32m    481\u001b[0m     \u001b[0;31m# Create the parser.\u001b[0m\u001b[0;34m\u001b[0m\u001b[0;34m\u001b[0m\u001b[0m\n\u001b[0;32m--> 482\u001b[0;31m     \u001b[0mparser\u001b[0m \u001b[0;34m=\u001b[0m \u001b[0mTextFileReader\u001b[0m\u001b[0;34m(\u001b[0m\u001b[0mfilepath_or_buffer\u001b[0m\u001b[0;34m,\u001b[0m \u001b[0;34m**\u001b[0m\u001b[0mkwds\u001b[0m\u001b[0;34m)\u001b[0m\u001b[0;34m\u001b[0m\u001b[0;34m\u001b[0m\u001b[0m\n\u001b[0m\u001b[1;32m    483\u001b[0m \u001b[0;34m\u001b[0m\u001b[0m\n\u001b[1;32m    484\u001b[0m     \u001b[0;32mif\u001b[0m \u001b[0mchunksize\u001b[0m \u001b[0;32mor\u001b[0m \u001b[0miterator\u001b[0m\u001b[0;34m:\u001b[0m\u001b[0;34m\u001b[0m\u001b[0;34m\u001b[0m\u001b[0m\n",
      "\u001b[0;32m~/opt/anaconda3/lib/python3.9/site-packages/pandas/io/parsers/readers.py\u001b[0m in \u001b[0;36m__init__\u001b[0;34m(self, f, engine, **kwds)\u001b[0m\n\u001b[1;32m    809\u001b[0m             \u001b[0mself\u001b[0m\u001b[0;34m.\u001b[0m\u001b[0moptions\u001b[0m\u001b[0;34m[\u001b[0m\u001b[0;34m\"has_index_names\"\u001b[0m\u001b[0;34m]\u001b[0m \u001b[0;34m=\u001b[0m \u001b[0mkwds\u001b[0m\u001b[0;34m[\u001b[0m\u001b[0;34m\"has_index_names\"\u001b[0m\u001b[0;34m]\u001b[0m\u001b[0;34m\u001b[0m\u001b[0;34m\u001b[0m\u001b[0m\n\u001b[1;32m    810\u001b[0m \u001b[0;34m\u001b[0m\u001b[0m\n\u001b[0;32m--> 811\u001b[0;31m         \u001b[0mself\u001b[0m\u001b[0;34m.\u001b[0m\u001b[0m_engine\u001b[0m \u001b[0;34m=\u001b[0m \u001b[0mself\u001b[0m\u001b[0;34m.\u001b[0m\u001b[0m_make_engine\u001b[0m\u001b[0;34m(\u001b[0m\u001b[0mself\u001b[0m\u001b[0;34m.\u001b[0m\u001b[0mengine\u001b[0m\u001b[0;34m)\u001b[0m\u001b[0;34m\u001b[0m\u001b[0;34m\u001b[0m\u001b[0m\n\u001b[0m\u001b[1;32m    812\u001b[0m \u001b[0;34m\u001b[0m\u001b[0m\n\u001b[1;32m    813\u001b[0m     \u001b[0;32mdef\u001b[0m \u001b[0mclose\u001b[0m\u001b[0;34m(\u001b[0m\u001b[0mself\u001b[0m\u001b[0;34m)\u001b[0m\u001b[0;34m:\u001b[0m\u001b[0;34m\u001b[0m\u001b[0;34m\u001b[0m\u001b[0m\n",
      "\u001b[0;32m~/opt/anaconda3/lib/python3.9/site-packages/pandas/io/parsers/readers.py\u001b[0m in \u001b[0;36m_make_engine\u001b[0;34m(self, engine)\u001b[0m\n\u001b[1;32m   1038\u001b[0m             )\n\u001b[1;32m   1039\u001b[0m         \u001b[0;31m# error: Too many arguments for \"ParserBase\"\u001b[0m\u001b[0;34m\u001b[0m\u001b[0;34m\u001b[0m\u001b[0m\n\u001b[0;32m-> 1040\u001b[0;31m         \u001b[0;32mreturn\u001b[0m \u001b[0mmapping\u001b[0m\u001b[0;34m[\u001b[0m\u001b[0mengine\u001b[0m\u001b[0;34m]\u001b[0m\u001b[0;34m(\u001b[0m\u001b[0mself\u001b[0m\u001b[0;34m.\u001b[0m\u001b[0mf\u001b[0m\u001b[0;34m,\u001b[0m \u001b[0;34m**\u001b[0m\u001b[0mself\u001b[0m\u001b[0;34m.\u001b[0m\u001b[0moptions\u001b[0m\u001b[0;34m)\u001b[0m  \u001b[0;31m# type: ignore[call-arg]\u001b[0m\u001b[0;34m\u001b[0m\u001b[0;34m\u001b[0m\u001b[0m\n\u001b[0m\u001b[1;32m   1041\u001b[0m \u001b[0;34m\u001b[0m\u001b[0m\n\u001b[1;32m   1042\u001b[0m     \u001b[0;32mdef\u001b[0m \u001b[0m_failover_to_python\u001b[0m\u001b[0;34m(\u001b[0m\u001b[0mself\u001b[0m\u001b[0;34m)\u001b[0m\u001b[0;34m:\u001b[0m\u001b[0;34m\u001b[0m\u001b[0;34m\u001b[0m\u001b[0m\n",
      "\u001b[0;32m~/opt/anaconda3/lib/python3.9/site-packages/pandas/io/parsers/c_parser_wrapper.py\u001b[0m in \u001b[0;36m__init__\u001b[0;34m(self, src, **kwds)\u001b[0m\n\u001b[1;32m     49\u001b[0m \u001b[0;34m\u001b[0m\u001b[0m\n\u001b[1;32m     50\u001b[0m         \u001b[0;31m# open handles\u001b[0m\u001b[0;34m\u001b[0m\u001b[0;34m\u001b[0m\u001b[0m\n\u001b[0;32m---> 51\u001b[0;31m         \u001b[0mself\u001b[0m\u001b[0;34m.\u001b[0m\u001b[0m_open_handles\u001b[0m\u001b[0;34m(\u001b[0m\u001b[0msrc\u001b[0m\u001b[0;34m,\u001b[0m \u001b[0mkwds\u001b[0m\u001b[0;34m)\u001b[0m\u001b[0;34m\u001b[0m\u001b[0;34m\u001b[0m\u001b[0m\n\u001b[0m\u001b[1;32m     52\u001b[0m         \u001b[0;32massert\u001b[0m \u001b[0mself\u001b[0m\u001b[0;34m.\u001b[0m\u001b[0mhandles\u001b[0m \u001b[0;32mis\u001b[0m \u001b[0;32mnot\u001b[0m \u001b[0;32mNone\u001b[0m\u001b[0;34m\u001b[0m\u001b[0;34m\u001b[0m\u001b[0m\n\u001b[1;32m     53\u001b[0m \u001b[0;34m\u001b[0m\u001b[0m\n",
      "\u001b[0;32m~/opt/anaconda3/lib/python3.9/site-packages/pandas/io/parsers/base_parser.py\u001b[0m in \u001b[0;36m_open_handles\u001b[0;34m(self, src, kwds)\u001b[0m\n\u001b[1;32m    220\u001b[0m         \u001b[0mLet\u001b[0m \u001b[0mthe\u001b[0m \u001b[0mreaders\u001b[0m \u001b[0mopen\u001b[0m \u001b[0mIOHandles\u001b[0m \u001b[0mafter\u001b[0m \u001b[0mthey\u001b[0m \u001b[0mare\u001b[0m \u001b[0mdone\u001b[0m \u001b[0;32mwith\u001b[0m \u001b[0mtheir\u001b[0m \u001b[0mpotential\u001b[0m \u001b[0mraises\u001b[0m\u001b[0;34m.\u001b[0m\u001b[0;34m\u001b[0m\u001b[0;34m\u001b[0m\u001b[0m\n\u001b[1;32m    221\u001b[0m         \"\"\"\n\u001b[0;32m--> 222\u001b[0;31m         self.handles = get_handle(\n\u001b[0m\u001b[1;32m    223\u001b[0m             \u001b[0msrc\u001b[0m\u001b[0;34m,\u001b[0m\u001b[0;34m\u001b[0m\u001b[0;34m\u001b[0m\u001b[0m\n\u001b[1;32m    224\u001b[0m             \u001b[0;34m\"r\"\u001b[0m\u001b[0;34m,\u001b[0m\u001b[0;34m\u001b[0m\u001b[0;34m\u001b[0m\u001b[0m\n",
      "\u001b[0;32m~/opt/anaconda3/lib/python3.9/site-packages/pandas/io/common.py\u001b[0m in \u001b[0;36mget_handle\u001b[0;34m(path_or_buf, mode, encoding, compression, memory_map, is_text, errors, storage_options)\u001b[0m\n\u001b[1;32m    700\u001b[0m         \u001b[0;32mif\u001b[0m \u001b[0mioargs\u001b[0m\u001b[0;34m.\u001b[0m\u001b[0mencoding\u001b[0m \u001b[0;32mand\u001b[0m \u001b[0;34m\"b\"\u001b[0m \u001b[0;32mnot\u001b[0m \u001b[0;32min\u001b[0m \u001b[0mioargs\u001b[0m\u001b[0;34m.\u001b[0m\u001b[0mmode\u001b[0m\u001b[0;34m:\u001b[0m\u001b[0;34m\u001b[0m\u001b[0;34m\u001b[0m\u001b[0m\n\u001b[1;32m    701\u001b[0m             \u001b[0;31m# Encoding\u001b[0m\u001b[0;34m\u001b[0m\u001b[0;34m\u001b[0m\u001b[0m\n\u001b[0;32m--> 702\u001b[0;31m             handle = open(\n\u001b[0m\u001b[1;32m    703\u001b[0m                 \u001b[0mhandle\u001b[0m\u001b[0;34m,\u001b[0m\u001b[0;34m\u001b[0m\u001b[0;34m\u001b[0m\u001b[0m\n\u001b[1;32m    704\u001b[0m                 \u001b[0mioargs\u001b[0m\u001b[0;34m.\u001b[0m\u001b[0mmode\u001b[0m\u001b[0;34m,\u001b[0m\u001b[0;34m\u001b[0m\u001b[0;34m\u001b[0m\u001b[0m\n",
      "\u001b[0;31mFileNotFoundError\u001b[0m: [Errno 2] No such file or directory: './datasets/general_data.csv'"
     ]
    }
   ],
   "source": [
    "X = load_datas(paths[0])\n",
    "y = X.loc[:, ['Attrition']]\n",
    "X = X.drop(columns=['EmployeeID', 'EmployeeCount', 'Attrition', 'Over18', 'StandardHours'], axis=1)\n",
    "manager_survey = load_datas(paths[1])\n",
    "employee_survey = load_datas(paths[2])\n",
    "in_time = load_datas(paths[3])\n",
    "out_time = load_datas(paths[4])"
   ]
  },
  {
   "cell_type": "markdown",
   "id": "06265b5c",
   "metadata": {},
   "source": [
    "## Data Normalisation and Standardisation"
   ]
  },
  {
   "cell_type": "code",
   "execution_count": null,
   "id": "e046fd88",
   "metadata": {},
   "outputs": [],
   "source": [
    "def converting_string_to_dates(in_time, out_time):\n",
    "    # RENAMING THE UNNAMED COLUMN (ID_EMPLOYEE) FOR IT TO BE USEABLE MORE EASILY IN THE FUTURE\n",
    "\n",
    "    in_time = in_time.rename(columns={'Unnamed: 0': 'id_employee'})\n",
    "    out_time = out_time.rename(columns={'Unnamed: 0': 'id_employee'})\n",
    "\n",
    "\n",
    "    # WE CAN USE THE COLUMNS OF ONLY ONE FILE BECAUSE THEY ARE BOTH THE SAME AND CONTAINS THE SAME HEADERS NAME\n",
    "    # IT HAS BEEN VERIFIED USING LIST COMPARISON AND UNIQUE() CONDITION TO FILTER AND WE END WITH A TOTAL OF 262 COLUMNS\n",
    "    cols = in_time.columns\n",
    "\n",
    "\n",
    "    # CONVERTING THE DATES TO REAL PANDAS DATES OBJECT\n",
    "    for i in cols:\n",
    "        if i != 'id_employee':\n",
    "            in_time[i] = pd.to_datetime(in_time[i])\n",
    "            out_time[i] = pd.to_datetime(out_time[i])\n",
    "\n",
    "    return in_time, out_time"
   ]
  },
  {
   "cell_type": "code",
   "execution_count": null,
   "id": "1fe5c0c6",
   "metadata": {},
   "outputs": [],
   "source": [
    "#converting in and out time dataframes into pandas date obj\n",
    "in_time, out_time = converting_string_to_dates(in_time, out_time)"
   ]
  },
  {
   "cell_type": "code",
   "execution_count": null,
   "id": "bafd567d",
   "metadata": {},
   "outputs": [],
   "source": [
    "# using the converted dates to calculate the working time of each employee\n",
    "def calculate_working_time():\n",
    "\n",
    "    working_time = in_time.copy()\n",
    "    for i in working_time:\n",
    "        if i != 'id_employee':\n",
    "            working_time[i] = out_time[i] - working_time[i]\n",
    "            \n",
    "    return working_time"
   ]
  },
  {
   "cell_type": "markdown",
   "id": "15f3ca45",
   "metadata": {},
   "source": [
    "Adding working data to General Dataframe"
   ]
  },
  {
   "cell_type": "code",
   "execution_count": null,
   "id": "c29a7b77",
   "metadata": {},
   "outputs": [],
   "source": [
    "working_time = calculate_working_time()"
   ]
  },
  {
   "cell_type": "markdown",
   "id": "1a9080af",
   "metadata": {},
   "source": [
    "Adding Employee and Manager Survey to DataFrame"
   ]
  },
  {
   "cell_type": "code",
   "execution_count": null,
   "id": "9b1e547b",
   "metadata": {},
   "outputs": [],
   "source": [
    "\n",
    "\n",
    "def import_columns(X):\n",
    "    print('==='*5)\n",
    "    print('IMPORTING COLUMNS FROM OTHER DATAFRAMES TO MAIN DATAFRAME')\n",
    "    print('==='*5, '\\n')\n",
    "\n",
    "    # Adding the calculated mean value of the working time of each employee to the main dataframe\n",
    "    mean_time = working_time.copy()\n",
    "    mean_time = mean_time.drop('id_employee', axis=1)\n",
    "    X['mean-timework'] = mean_time.mean(axis = 1)\n",
    "    X['mean-timework'] = X['mean-timework'].dt.total_seconds() / 3600\n",
    "    X['mean-timework'] = round(X['mean-timework'], 2)\n",
    "    # Adding the rest of the datas (from the survey)\n",
    "    X['EnvironmentSatisfaction'] = employee_survey['EnvironmentSatisfaction']\n",
    "    X['JobSatisfaction'] = employee_survey['JobSatisfaction']\n",
    "    X['WorkLifeBalance'] = employee_survey['WorkLifeBalance']\n",
    "    X['JobInvolvement'] = manager_survey['JobInvolvement']\n",
    "    X['PerformanceRating'] = manager_survey['PerformanceRating']\n",
    "\n",
    "    # Reformating the column of the existing general DF for comprehension\n",
    "    X = X.reindex(columns=['EmployeeID','Age','Attrition','BusinessTravel','Department','DistanceFromHome','Education','EducationField','EmployeeCount','Gender','JobLevel','JobRole','MaritalStatus','MonthlyIncome','NumCompaniesWorked','Over18','PercentSalaryHike','StandardHours','StockOptionLevel','TotalWorkingYears','TrainingTimesLastYear','YearsAtCompany','YearsSinceLastPromotion','YearsWithCurrManager','mean-timework','EnvironmentSatisfaction','JobSatisfaction','WorkLifeBalance','JobInvolvement','PerformanceRating'])\n"
   ]
  },
  {
   "cell_type": "markdown",
   "id": "59e1826d",
   "metadata": {},
   "source": [
    "Removing error values and replace them with their median"
   ]
  },
  {
   "cell_type": "code",
   "execution_count": null,
   "id": "ef7f6857",
   "metadata": {},
   "outputs": [],
   "source": [
    "def fill_nan(X):\n",
    "    print('==='*5)\n",
    "    print('REPLACING NULL VALUES WITH MEDIAN OR MEAN VALUES OF THE CORREPONDING EMPLOYEE')\n",
    "    print('==='*5, '\\n')\n",
    "\n",
    "    X[\"NumCompaniesWorked\"] = X[\"NumCompaniesWorked\"].fillna(X[\"NumCompaniesWorked\"].median())\n",
    "    X[\"TotalWorkingYears\"] = X[\"TotalWorkingYears\"].fillna(X[\"TotalWorkingYears\"].median())\n",
    "\n",
    "    environmentSatisMean = X[\"EnvironmentSatisfaction\"].mean(axis = 0)\n",
    "    jobSatisMean = X[\"JobSatisfaction\"].mean(axis=0)\n",
    "    worklifemean = X[\"WorkLifeBalance\"].mean(axis=0)\n",
    "\n",
    "    for a, value in X['EnvironmentSatisfaction'].isnull().iteritems():\n",
    "        if value:\n",
    "            X['EnvironmentSatisfaction'][a] = environmentSatisMean\n",
    "\n",
    "    for a, value in X[\"JobSatisfaction\"].isnull().iteritems():\n",
    "        if value:\n",
    "            X['JobSatisfaction'][a] = jobSatisMean\n",
    "\n",
    "    for a, value in X[\"WorkLifeBalance\"].isnull().iteritems():\n",
    "        if value:\n",
    "            X['WorkLifeBalance'][a] = worklifemean"
   ]
  },
  {
   "cell_type": "markdown",
   "id": "ad07ee23",
   "metadata": {},
   "source": [
    "Separing numerics data from categorical data for normalisation purpose"
   ]
  },
  {
   "cell_type": "code",
   "execution_count": null,
   "id": "3583a8f6",
   "metadata": {},
   "outputs": [],
   "source": [
    "def get_attribs(X):\n",
    "\n",
    "\n",
    "    num_attribs = list(X.select_dtypes(include=[np.number]))\n",
    "    cat_attribs = list(X.select_dtypes(exclude=[np.number]))\n",
    "\n",
    "    return num_attribs, cat_attribs"
   ]
  },
  {
   "cell_type": "code",
   "execution_count": null,
   "id": "00ad36cd",
   "metadata": {},
   "outputs": [],
   "source": [
    "# Encoder to convert the text data to actual values\n",
    "\n",
    "from sklearn.preprocessing import LabelEncoder\n",
    "label_enc = LabelEncoder()\n",
    "\n",
    "    \n",
    "def personnal_encoder(df, col):\n",
    "    df[col] = label_enc.fit_transform(df[col])\n",
    "    return df\n",
    "\n",
    "def label_encoding(df):\n",
    "    num_attribs, cat_attribs = get_attribs(df)\n",
    "    print('==='*5)\n",
    "    print('ENCODING THE FOLLOWING ATTRIBUTES : \\n',cat_attribs)\n",
    "    print('==='*5, '\\n')\n",
    "    for i in cat_attribs:\n",
    "        df = personnal_encoder(df, i)"
   ]
  },
  {
   "cell_type": "code",
   "execution_count": null,
   "id": "41fda1fd",
   "metadata": {},
   "outputs": [],
   "source": [
    "from sklearn.preprocessing import StandardScaler\n",
    "def standard_scaler(X):\n",
    "    sts = StandardScaler()\n",
    "    num_attribs, cat_attribs = get_attribs(X)\n",
    "    \n",
    "    print('==='*5)\n",
    "    print('SCALING THE FOLLOWING ATTRIBUTES : \\n', num_attribs)\n",
    "    print('==='*5, '\\n')\n",
    "    X_num = X.loc[:, num_attribs]\n",
    "    sts.fit(X_num)\n",
    "    X_num = pd.DataFrame(sts.transform(X_num), columns=num_attribs)\n",
    "    for i in X_num.columns:\n",
    "        X[i] = X_num[i]"
   ]
  },
  {
   "cell_type": "markdown",
   "id": "d5eaa9f3",
   "metadata": {},
   "source": [
    "## Preparation Pipeline"
   ]
  },
  {
   "cell_type": "markdown",
   "id": "40ea8993",
   "metadata": {},
   "source": [
    "Pipeline to normalize and standardize the datas depending on if it's a categorical value or a numeric value"
   ]
  },
  {
   "cell_type": "code",
   "execution_count": null,
   "id": "95f57e11",
   "metadata": {},
   "outputs": [],
   "source": [
    "from sklearn.preprocessing import FunctionTransformer\n",
    "from sklearn.pipeline import Pipeline\n",
    "from sklearn.preprocessing import LabelEncoder\n",
    "from sklearn.preprocessing import StandardScaler\n",
    "\n",
    "\n",
    "\n",
    "prep_pipeline = Pipeline(\n",
    "    [\n",
    "        ('import', FunctionTransformer(import_columns(X))),\n",
    "        ('fill_nan', FunctionTransformer(fill_nan(X))),\n",
    "        ('prep', FunctionTransformer(label_encoding(X))),\n",
    "        ('scaler', FunctionTransformer(standard_scaler(X)))\n",
    "    ]\n",
    ")\n",
    "prep_pipeline.fit(X, y)"
   ]
  },
  {
   "cell_type": "markdown",
   "id": "d9e739da",
   "metadata": {},
   "source": [
    "Model Pipeline, this pipeline contains a model that will be used to predict the results using the data normalized before"
   ]
  },
  {
   "cell_type": "code",
   "execution_count": null,
   "id": "32fe2afd",
   "metadata": {},
   "outputs": [],
   "source": [
    "from sklearn.compose import ColumnTransformer\n",
    "from sklearn.preprocessing import FunctionTransformer\n",
    "from sklearn.pipeline import Pipeline\n",
    "from sklearn.preprocessing import StandardScaler\n",
    "from sklearn.model_selection import train_test_split\n",
    "from sklearn.tree import DecisionTreeClassifier\n",
    "\n",
    "\n",
    "\n",
    "X_train, X_Test, y_train, y_test = train_test_split(X, y, test_size=0.2, random_state=42)\n",
    "\n",
    "\n",
    "pipeline = Pipeline(\n",
    "    [\n",
    "        ('tree', DecisionTreeClassifier())   \n",
    "    ]\n",
    ")\n",
    "pipeline.fit(X_train, y_train)\n",
    "pipeline.score(X_Test, y_test)"
   ]
  },
  {
   "cell_type": "markdown",
   "id": "b7ebf944",
   "metadata": {},
   "source": [
    "Working with the data to create correlation matrixs"
   ]
  },
  {
   "cell_type": "code",
   "execution_count": null,
   "id": "c8e7325c",
   "metadata": {},
   "outputs": [],
   "source": [
    "X_corr = X.loc[:, :]\n",
    "X_corr['Attrition'] = y.copy()\n",
    "X_corr = personnal_encoder(X_corr, 'Attrition')"
   ]
  },
  {
   "cell_type": "code",
   "execution_count": null,
   "id": "29a56229",
   "metadata": {},
   "outputs": [],
   "source": [
    "size = 26\n",
    "correlation  = X_corr.corr(method='pearson')\n",
    "small = list(correlation.nsmallest(size, 'Attrition').index)\n",
    "neg_corr = X_corr.loc[:, small]\n"
   ]
  },
  {
   "cell_type": "markdown",
   "id": "a1bf2969",
   "metadata": {},
   "source": [
    "Correlation Matrixs"
   ]
  },
  {
   "cell_type": "code",
   "execution_count": null,
   "id": "cbd3c8d3",
   "metadata": {},
   "outputs": [],
   "source": [
    "import seaborn as sns\n",
    "# plt.figure(figsize = (50,50))\n",
    "# sns.heatmap(neg_corr.corr(method='pearson'), annot= True, annot_kws={'size': 18})\n",
    "# plt.show()"
   ]
  },
  {
   "cell_type": "code",
   "execution_count": null,
   "id": "49f4da75",
   "metadata": {},
   "outputs": [],
   "source": [
    "import seaborn as sns\n",
    "# X_corr_2 = X.loc[:, :]\n",
    "\n",
    "# #X_corr_2 = X_corr_2.drop(columns=['Age', 'Education', 'NumCompaniesWorked', 'PercentSalaryHike', 'TotalWorkingYears', 'TrainingTimesLastYear', 'YearsAtCompany', 'YearsSinceLastPromotion', 'YearsWithCurrManager', 'StandardHours', 'Over18'])\n",
    "# plt.figure(figsize=(50, 40))\n",
    "# correlation = X_corr_2.corr(method='pearson')\n",
    "# correlation.describe()\n",
    "# sns.heatmap(correlation, annot=True, annot_kws={'size': 22})\n",
    "# plt.show()\n",
    "\n"
   ]
  },
  {
   "cell_type": "markdown",
   "id": "00f1d841",
   "metadata": {},
   "source": [
    "Confusion Matrix"
   ]
  },
  {
   "cell_type": "code",
   "execution_count": null,
   "id": "1c1eb11d",
   "metadata": {},
   "outputs": [],
   "source": [
    "from sklearn.metrics import confusion_matrix\n",
    "from sklearn.metrics import ConfusionMatrixDisplay\n",
    "\n",
    "confusion = confusion_matrix(Y_test, predict)\n",
    "cm_display = ConfusionMatrixDisplay(confusion).plot()\n",
    "\n"
   ]
  },
  {
   "cell_type": "markdown",
   "id": "9f43bbd5",
   "metadata": {},
   "source": [
    "### Model Creation"
   ]
  },
  {
   "cell_type": "code",
   "execution_count": null,
   "id": "69e403c7",
   "metadata": {},
   "outputs": [],
   "source": [
    "\n",
    "\n"
   ]
  }
 ],
 "metadata": {
  "kernelspec": {
   "display_name": "Python 3 (ipykernel)",
   "language": "python",
   "name": "python3"
  },
  "language_info": {
   "codemirror_mode": {
    "name": "ipython",
    "version": 3
   },
   "file_extension": ".py",
   "mimetype": "text/x-python",
   "name": "python",
   "nbconvert_exporter": "python",
   "pygments_lexer": "ipython3",
   "version": "3.9.7"
  }
 },
 "nbformat": 4,
 "nbformat_minor": 5
}
